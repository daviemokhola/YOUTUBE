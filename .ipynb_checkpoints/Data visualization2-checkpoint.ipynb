{
 "cells": [
  {
   "cell_type": "code",
   "execution_count": 5,
   "id": "f2cf57f2",
   "metadata": {},
   "outputs": [],
   "source": [
    "import pandas as pd\n",
    "import matplotlib.pyplot as plt\n",
    "df=pd.read_excel(\"dataCleaning.xlsx\", sheet_name=\"Sheet2\")"
   ]
  },
  {
   "cell_type": "code",
   "execution_count": 7,
   "id": "39bf020f",
   "metadata": {},
   "outputs": [
    {
     "data": {
      "text/html": [
       "<div>\n",
       "<style scoped>\n",
       "    .dataframe tbody tr th:only-of-type {\n",
       "        vertical-align: middle;\n",
       "    }\n",
       "\n",
       "    .dataframe tbody tr th {\n",
       "        vertical-align: top;\n",
       "    }\n",
       "\n",
       "    .dataframe thead th {\n",
       "        text-align: right;\n",
       "    }\n",
       "</style>\n",
       "<table border=\"1\" class=\"dataframe\">\n",
       "  <thead>\n",
       "    <tr style=\"text-align: right;\">\n",
       "      <th></th>\n",
       "      <th>Name</th>\n",
       "      <th>Country</th>\n",
       "      <th>OOP</th>\n",
       "      <th>THE</th>\n",
       "      <th>OOPSHARE</th>\n",
       "      <th>CHE</th>\n",
       "    </tr>\n",
       "  </thead>\n",
       "  <tbody>\n",
       "    <tr>\n",
       "      <th>0</th>\n",
       "      <td>Edings</td>\n",
       "      <td>Malawi</td>\n",
       "      <td>12</td>\n",
       "      <td>70</td>\n",
       "      <td>0.171429</td>\n",
       "      <td>0</td>\n",
       "    </tr>\n",
       "    <tr>\n",
       "      <th>1</th>\n",
       "      <td>Esther</td>\n",
       "      <td>Malawi</td>\n",
       "      <td>23</td>\n",
       "      <td>72</td>\n",
       "      <td>0.319444</td>\n",
       "      <td>0</td>\n",
       "    </tr>\n",
       "    <tr>\n",
       "      <th>2</th>\n",
       "      <td>Gift</td>\n",
       "      <td>Malawi</td>\n",
       "      <td>34</td>\n",
       "      <td>74</td>\n",
       "      <td>0.459459</td>\n",
       "      <td>1</td>\n",
       "    </tr>\n",
       "    <tr>\n",
       "      <th>3</th>\n",
       "      <td>Joy</td>\n",
       "      <td>Zambia</td>\n",
       "      <td>45</td>\n",
       "      <td>76</td>\n",
       "      <td>0.592105</td>\n",
       "      <td>1</td>\n",
       "    </tr>\n",
       "    <tr>\n",
       "      <th>4</th>\n",
       "      <td>Gloria</td>\n",
       "      <td>Zimbabwe</td>\n",
       "      <td>67</td>\n",
       "      <td>78</td>\n",
       "      <td>0.858974</td>\n",
       "      <td>1</td>\n",
       "    </tr>\n",
       "  </tbody>\n",
       "</table>\n",
       "</div>"
      ],
      "text/plain": [
       "     Name   Country  OOP  THE  OOPSHARE  CHE\n",
       "0  Edings    Malawi   12   70  0.171429    0\n",
       "1  Esther    Malawi   23   72  0.319444    0\n",
       "2    Gift    Malawi   34   74  0.459459    1\n",
       "3     Joy    Zambia   45   76  0.592105    1\n",
       "4  Gloria  Zimbabwe   67   78  0.858974    1"
      ]
     },
     "execution_count": 7,
     "metadata": {},
     "output_type": "execute_result"
    }
   ],
   "source": [
    "df.head()"
   ]
  },
  {
   "cell_type": "code",
   "execution_count": 9,
   "id": "038f86d3",
   "metadata": {},
   "outputs": [],
   "source": [
    "df[\"DAMO\"]=df[\"OOP\"]*df[\"OOP\"]"
   ]
  },
  {
   "cell_type": "code",
   "execution_count": 15,
   "id": "577ec22b",
   "metadata": {},
   "outputs": [
    {
     "data": {
      "text/html": [
       "<div>\n",
       "<style scoped>\n",
       "    .dataframe tbody tr th:only-of-type {\n",
       "        vertical-align: middle;\n",
       "    }\n",
       "\n",
       "    .dataframe tbody tr th {\n",
       "        vertical-align: top;\n",
       "    }\n",
       "\n",
       "    .dataframe thead th {\n",
       "        text-align: right;\n",
       "    }\n",
       "</style>\n",
       "<table border=\"1\" class=\"dataframe\">\n",
       "  <thead>\n",
       "    <tr style=\"text-align: right;\">\n",
       "      <th></th>\n",
       "      <th>Name</th>\n",
       "      <th>Country</th>\n",
       "      <th>OOP</th>\n",
       "      <th>THE</th>\n",
       "      <th>OOPSHARE</th>\n",
       "      <th>CHE</th>\n",
       "      <th>DAMO</th>\n",
       "    </tr>\n",
       "  </thead>\n",
       "  <tbody>\n",
       "    <tr>\n",
       "      <th>0</th>\n",
       "      <td>Edings</td>\n",
       "      <td>Malawi</td>\n",
       "      <td>12</td>\n",
       "      <td>70</td>\n",
       "      <td>0.171429</td>\n",
       "      <td>0</td>\n",
       "      <td>144</td>\n",
       "    </tr>\n",
       "    <tr>\n",
       "      <th>1</th>\n",
       "      <td>Esther</td>\n",
       "      <td>Malawi</td>\n",
       "      <td>23</td>\n",
       "      <td>72</td>\n",
       "      <td>0.319444</td>\n",
       "      <td>0</td>\n",
       "      <td>529</td>\n",
       "    </tr>\n",
       "    <tr>\n",
       "      <th>2</th>\n",
       "      <td>Gift</td>\n",
       "      <td>Malawi</td>\n",
       "      <td>34</td>\n",
       "      <td>74</td>\n",
       "      <td>0.459459</td>\n",
       "      <td>1</td>\n",
       "      <td>1156</td>\n",
       "    </tr>\n",
       "    <tr>\n",
       "      <th>3</th>\n",
       "      <td>Joy</td>\n",
       "      <td>Zambia</td>\n",
       "      <td>45</td>\n",
       "      <td>76</td>\n",
       "      <td>0.592105</td>\n",
       "      <td>1</td>\n",
       "      <td>2025</td>\n",
       "    </tr>\n",
       "    <tr>\n",
       "      <th>4</th>\n",
       "      <td>Gloria</td>\n",
       "      <td>Zimbabwe</td>\n",
       "      <td>67</td>\n",
       "      <td>78</td>\n",
       "      <td>0.858974</td>\n",
       "      <td>1</td>\n",
       "      <td>4489</td>\n",
       "    </tr>\n",
       "  </tbody>\n",
       "</table>\n",
       "</div>"
      ],
      "text/plain": [
       "     Name   Country  OOP  THE  OOPSHARE  CHE  DAMO\n",
       "0  Edings    Malawi   12   70  0.171429    0   144\n",
       "1  Esther    Malawi   23   72  0.319444    0   529\n",
       "2    Gift    Malawi   34   74  0.459459    1  1156\n",
       "3     Joy    Zambia   45   76  0.592105    1  2025\n",
       "4  Gloria  Zimbabwe   67   78  0.858974    1  4489"
      ]
     },
     "execution_count": 15,
     "metadata": {},
     "output_type": "execute_result"
    }
   ],
   "source": [
    "df.head()"
   ]
  },
  {
   "cell_type": "code",
   "execution_count": 11,
   "id": "18049841",
   "metadata": {},
   "outputs": [],
   "source": [
    "x = [df[\"OOP\"].max(), df[\"THE\"].max()]"
   ]
  },
  {
   "cell_type": "code",
   "execution_count": 12,
   "id": "6ae596ba",
   "metadata": {
    "scrolled": true
   },
   "outputs": [
    {
     "data": {
      "text/plain": [
       "[89, 106]"
      ]
     },
     "execution_count": 12,
     "metadata": {},
     "output_type": "execute_result"
    }
   ],
   "source": [
    "x"
   ]
  },
  {
   "cell_type": "code",
   "execution_count": 63,
   "id": "b74b15dd",
   "metadata": {},
   "outputs": [
    {
     "data": {
      "text/plain": [
       "2"
      ]
     },
     "execution_count": 63,
     "metadata": {},
     "output_type": "execute_result"
    }
   ],
   "source": [
    "len(x)"
   ]
  },
  {
   "cell_type": "code",
   "execution_count": 62,
   "id": "0ceaae8e",
   "metadata": {},
   "outputs": [
    {
     "data": {
      "text/plain": [
       "([<matplotlib.patches.Wedge at 0x1299a9e5890>,\n",
       "  <matplotlib.patches.Wedge at 0x1299ae31150>],\n",
       " [Text(0.15016496424029438, 1.0897020159266988, ''),\n",
       "  Text(-0.15016486221502778, -1.0897020299861526, '')])"
      ]
     },
     "execution_count": 62,
     "metadata": {},
     "output_type": "execute_result"
    },
    {
     "data": {
      "image/png": "[encoded data removed]",
      "text/plain": [
       "<Figure size 640x480 with 1 Axes>"
      ]
     },
     "metadata": {},
     "output_type": "display_data"
    }
   ],
   "source": [
    "plt.pie(x)"
   ]
  },
  {
   "cell_type": "code",
   "execution_count": 14,
   "id": "d975150a",
   "metadata": {
    "scrolled": false
   },
   "outputs": [
    {
     "data": {
      "text/plain": [
       "(array([3., 3., 5., 2., 6.]),\n",
       " array([12. , 27.4, 42.8, 58.2, 73.6, 89. ]),\n",
       " <BarContainer object of 5 artists>)"
      ]
     },
     "execution_count": 14,
     "metadata": {},
     "output_type": "execute_result"
    },
    {
     "data": {
      "image/png": "[encoded data removed]",
      "text/plain": [
       "<Figure size 640x480 with 1 Axes>"
      ]
     },
     "metadata": {},
     "output_type": "display_data"
    }
   ],
   "source": [
    "plt.hist(df[\"OOP\"], bins=5)"
   ]
  },
  {
   "cell_type": "code",
   "execution_count": 27,
   "id": "f7e0fc74",
   "metadata": {},
   "outputs": [
    {
     "data": {
      "text/plain": [
       "Country\n",
       "Malawi      10\n",
       "Zambia       5\n",
       "Zimbabwe     4\n",
       "Name: count, dtype: int64"
      ]
     },
     "execution_count": 27,
     "metadata": {},
     "output_type": "execute_result"
    }
   ],
   "source": [
    "df[\"Country\"].value_counts()"
   ]
  },
  {
   "cell_type": "code",
   "execution_count": 53,
   "id": "8c0b9066",
   "metadata": {},
   "outputs": [
    {
     "data": {
      "image/png": "[encoded data removed]",
      "text/plain": [
       "<Figure size 640x480 with 1 Axes>"
      ]
     },
     "metadata": {},
     "output_type": "display_data"
    }
   ],
   "source": [
    "plt.pie(df[\"Country\"].value_counts(), labels=labels, colors=[\"Coral\", \"skyblue\", \"blue\"], explode=[0,0.1,0], startangle=90)\n",
    "labels=[\"Malawi\", \"Zambia\", \"Zimbabwe\"]\n",
    "explode=\"True\"\n",
    "\n",
    "\n",
    "\n"
   ]
  },
  {
   "cell_type": "code",
   "execution_count": 72,
   "id": "622fd5ad",
   "metadata": {},
   "outputs": [
    {
     "data": {
      "text/plain": [
       "Text(0.5, 1.0, 'OOP versus THE')"
      ]
     },
     "execution_count": 72,
     "metadata": {},
     "output_type": "execute_result"
    },
    {
     "data": {
      "image/png": "[encoded data removed]",
      "text/plain": [
       "<Figure size 640x480 with 1 Axes>"
      ]
     },
     "metadata": {},
     "output_type": "display_data"
    }
   ],
   "source": [
    "plt.scatter(df[\"OOP\"], df[\"THE\"], marker=\"d\", s=100, color=\"red\")\n",
    "plt.xlabel(\"OOP\")\n",
    "plt.ylabel(\"THE\")\n",
    "plt.title(\"OOP versus THE\")"
   ]
  },
  {
   "cell_type": "code",
   "execution_count": 77,
   "id": "3be7c40e",
   "metadata": {},
   "outputs": [
    {
     "data": {
      "text/plain": [
       "<BarContainer object of 3 artists>"
      ]
     },
     "execution_count": 77,
     "metadata": {},
     "output_type": "execute_result"
    },
    {
     "data": {
      "image/png": "[encoded data removed]",
      "text/plain": [
       "<Figure size 640x480 with 1 Axes>"
      ]
     },
     "metadata": {},
     "output_type": "display_data"
    }
   ],
   "source": [
    "plt.bar([\"A\",\"B\", \"C\"], [20,50,90])"
   ]
  },
  {
   "cell_type": "code",
   "execution_count": null,
   "id": "273c6a8f",
   "metadata": {},
   "outputs": [],
   "source": []
  }
 ],
 "metadata": {
  "kernelspec": {
   "display_name": "Python 3 (ipykernel)",
   "language": "python",
   "name": "python3"
  },
  "language_info": {
   "codemirror_mode": {
    "name": "ipython",
    "version": 3
   },
   "file_extension": ".py",
   "mimetype": "text/x-python",
   "name": "python",
   "nbconvert_exporter": "python",
   "pygments_lexer": "ipython3",
   "version": "3.11.5"
  }
 },
 "nbformat": 4,
 "nbformat_minor": 5
}
