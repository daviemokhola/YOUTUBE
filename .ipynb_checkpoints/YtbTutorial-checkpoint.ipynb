{
 "cells": [
  {
   "cell_type": "code",
   "execution_count": null,
   "id": "98a317b9",
   "metadata": {},
   "outputs": [],
   "source": [
    "# Use Inplace=True with All types of drop ie. Drop() and dropna() and fillna()\n",
    "# Use Loop When dealing with OUTLIERS; Removing or Replacing"
   ]
  }
 ],
 "metadata": {
  "kernelspec": {
   "display_name": "Python 3 (ipykernel)",
   "language": "python",
   "name": "python3"
  },
  "language_info": {
   "codemirror_mode": {
    "name": "ipython",
    "version": 3
   },
   "file_extension": ".py",
   "mimetype": "text/x-python",
   "name": "python",
   "nbconvert_exporter": "python",
   "pygments_lexer": "ipython3",
   "version": "3.11.5"
  }
 },
 "nbformat": 4,
 "nbformat_minor": 5
}
