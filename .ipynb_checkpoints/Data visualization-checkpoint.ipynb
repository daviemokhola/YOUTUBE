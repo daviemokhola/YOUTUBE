{
 "cells": [
  {
   "cell_type": "code",
   "execution_count": 1,
   "id": "d425955f",
   "metadata": {},
   "outputs": [],
   "source": [
    "import pandas as pd\n",
    "import matplotlib.pyplot as plt"
   ]
  },
  {
   "cell_type": "code",
   "execution_count": 2,
   "id": "0a941b86",
   "metadata": {},
   "outputs": [],
   "source": [
    "df=pd.read_excel(\"dataCleaning.xlsx\", sheet_name=\"Sheet2\")"
   ]
  },
  {
   "cell_type": "code",
   "execution_count": 3,
   "id": "4eef789e",
   "metadata": {},
   "outputs": [
    {
     "data": {
      "text/html": [
       "<div>\n",
       "<style scoped>\n",
       "    .dataframe tbody tr th:only-of-type {\n",
       "        vertical-align: middle;\n",
       "    }\n",
       "\n",
       "    .dataframe tbody tr th {\n",
       "        vertical-align: top;\n",
       "    }\n",
       "\n",
       "    .dataframe thead th {\n",
       "        text-align: right;\n",
       "    }\n",
       "</style>\n",
       "<table border=\"1\" class=\"dataframe\">\n",
       "  <thead>\n",
       "    <tr style=\"text-align: right;\">\n",
       "      <th></th>\n",
       "      <th>Name</th>\n",
       "      <th>Country</th>\n",
       "      <th>OOP</th>\n",
       "      <th>THE</th>\n",
       "      <th>OOPSHARE</th>\n",
       "      <th>CHE</th>\n",
       "    </tr>\n",
       "  </thead>\n",
       "  <tbody>\n",
       "    <tr>\n",
       "      <th>0</th>\n",
       "      <td>Edings</td>\n",
       "      <td>Malawi</td>\n",
       "      <td>12</td>\n",
       "      <td>70</td>\n",
       "      <td>0.171429</td>\n",
       "      <td>0</td>\n",
       "    </tr>\n",
       "    <tr>\n",
       "      <th>1</th>\n",
       "      <td>Esther</td>\n",
       "      <td>Malawi</td>\n",
       "      <td>23</td>\n",
       "      <td>72</td>\n",
       "      <td>0.319444</td>\n",
       "      <td>0</td>\n",
       "    </tr>\n",
       "    <tr>\n",
       "      <th>2</th>\n",
       "      <td>Gift</td>\n",
       "      <td>Malawi</td>\n",
       "      <td>34</td>\n",
       "      <td>74</td>\n",
       "      <td>0.459459</td>\n",
       "      <td>1</td>\n",
       "    </tr>\n",
       "    <tr>\n",
       "      <th>3</th>\n",
       "      <td>Joy</td>\n",
       "      <td>Zambia</td>\n",
       "      <td>45</td>\n",
       "      <td>76</td>\n",
       "      <td>0.592105</td>\n",
       "      <td>1</td>\n",
       "    </tr>\n",
       "    <tr>\n",
       "      <th>4</th>\n",
       "      <td>Gloria</td>\n",
       "      <td>Zimbabwe</td>\n",
       "      <td>67</td>\n",
       "      <td>78</td>\n",
       "      <td>0.858974</td>\n",
       "      <td>1</td>\n",
       "    </tr>\n",
       "  </tbody>\n",
       "</table>\n",
       "</div>"
      ],
      "text/plain": [
       "     Name   Country  OOP  THE  OOPSHARE  CHE\n",
       "0  Edings    Malawi   12   70  0.171429    0\n",
       "1  Esther    Malawi   23   72  0.319444    0\n",
       "2    Gift    Malawi   34   74  0.459459    1\n",
       "3     Joy    Zambia   45   76  0.592105    1\n",
       "4  Gloria  Zimbabwe   67   78  0.858974    1"
      ]
     },
     "execution_count": 3,
     "metadata": {},
     "output_type": "execute_result"
    }
   ],
   "source": [
    "df.head()"
   ]
  },
  {
   "cell_type": "code",
   "execution_count": 4,
   "id": "a93d2392",
   "metadata": {},
   "outputs": [],
   "source": [
    "value=df[\"Country\"].value_counts()\n",
    "label=value.index\n",
    "sizes=value.values"
   ]
  },
  {
   "cell_type": "code",
   "execution_count": 5,
   "id": "0922e107",
   "metadata": {},
   "outputs": [
    {
     "data": {
      "text/plain": [
       "([<matplotlib.patches.Wedge at 0x1da1b1ef550>,\n",
       "  <matplotlib.patches.Wedge at 0x1da1b1fd1d0>,\n",
       "  <matplotlib.patches.Wedge at 0x1da1b1fe790>],\n",
       " [Text(-0.09083734484335805, 1.0962429369358824, 'Malawi'),\n",
       "  Text(-0.6016428377989248, -0.9208832150306883, 'Zambia'),\n",
       "  Text(0.8680546835215183, -0.6756338256898902, 'Zimbabwe')])"
      ]
     },
     "execution_count": 5,
     "metadata": {},
     "output_type": "execute_result"
    },
    {
     "data": {
      "image/png": "[encoded data removed]",
      "text/plain": [
       "<Figure size 640x480 with 1 Axes>"
      ]
     },
     "metadata": {},
     "output_type": "display_data"
    }
   ],
   "source": [
    "plt.pie(sizes, labels=label)"
   ]
  },
  {
   "cell_type": "code",
   "execution_count": 6,
   "id": "4b56ffa5",
   "metadata": {},
   "outputs": [
    {
     "data": {
      "text/html": [
       "<div>\n",
       "<style scoped>\n",
       "    .dataframe tbody tr th:only-of-type {\n",
       "        vertical-align: middle;\n",
       "    }\n",
       "\n",
       "    .dataframe tbody tr th {\n",
       "        vertical-align: top;\n",
       "    }\n",
       "\n",
       "    .dataframe thead th {\n",
       "        text-align: right;\n",
       "    }\n",
       "</style>\n",
       "<table border=\"1\" class=\"dataframe\">\n",
       "  <thead>\n",
       "    <tr style=\"text-align: right;\">\n",
       "      <th></th>\n",
       "      <th>Name</th>\n",
       "      <th>Country</th>\n",
       "      <th>OOP</th>\n",
       "      <th>THE</th>\n",
       "      <th>OOPSHARE</th>\n",
       "      <th>CHE</th>\n",
       "    </tr>\n",
       "  </thead>\n",
       "  <tbody>\n",
       "    <tr>\n",
       "      <th>0</th>\n",
       "      <td>Edings</td>\n",
       "      <td>Malawi</td>\n",
       "      <td>12</td>\n",
       "      <td>70</td>\n",
       "      <td>0.171429</td>\n",
       "      <td>0</td>\n",
       "    </tr>\n",
       "    <tr>\n",
       "      <th>1</th>\n",
       "      <td>Esther</td>\n",
       "      <td>Malawi</td>\n",
       "      <td>23</td>\n",
       "      <td>72</td>\n",
       "      <td>0.319444</td>\n",
       "      <td>0</td>\n",
       "    </tr>\n",
       "    <tr>\n",
       "      <th>2</th>\n",
       "      <td>Gift</td>\n",
       "      <td>Malawi</td>\n",
       "      <td>34</td>\n",
       "      <td>74</td>\n",
       "      <td>0.459459</td>\n",
       "      <td>1</td>\n",
       "    </tr>\n",
       "    <tr>\n",
       "      <th>3</th>\n",
       "      <td>Joy</td>\n",
       "      <td>Zambia</td>\n",
       "      <td>45</td>\n",
       "      <td>76</td>\n",
       "      <td>0.592105</td>\n",
       "      <td>1</td>\n",
       "    </tr>\n",
       "    <tr>\n",
       "      <th>4</th>\n",
       "      <td>Gloria</td>\n",
       "      <td>Zimbabwe</td>\n",
       "      <td>67</td>\n",
       "      <td>78</td>\n",
       "      <td>0.858974</td>\n",
       "      <td>1</td>\n",
       "    </tr>\n",
       "  </tbody>\n",
       "</table>\n",
       "</div>"
      ],
      "text/plain": [
       "     Name   Country  OOP  THE  OOPSHARE  CHE\n",
       "0  Edings    Malawi   12   70  0.171429    0\n",
       "1  Esther    Malawi   23   72  0.319444    0\n",
       "2    Gift    Malawi   34   74  0.459459    1\n",
       "3     Joy    Zambia   45   76  0.592105    1\n",
       "4  Gloria  Zimbabwe   67   78  0.858974    1"
      ]
     },
     "execution_count": 6,
     "metadata": {},
     "output_type": "execute_result"
    }
   ],
   "source": [
    "df.head()"
   ]
  },
  {
   "cell_type": "code",
   "execution_count": 7,
   "id": "17516896",
   "metadata": {},
   "outputs": [
    {
     "data": {
      "text/plain": [
       "Text(0.5, 1.0, 'THE versus OOP')"
      ]
     },
     "execution_count": 7,
     "metadata": {},
     "output_type": "execute_result"
    },
    {
     "data": {
      "image/png": "[encoded data removed]",
      "text/plain": [
       "<Figure size 640x480 with 1 Axes>"
      ]
     },
     "metadata": {},
     "output_type": "display_data"
    }
   ],
   "source": [
    "plt.scatter(x=df[\"OOP\"], y=df[\"THE\"])\n",
    "plt.xlabel(\"OOP\")\n",
    "plt.ylabel(\"THE\")\n",
    "plt.title(\"THE versus OOP\")"
   ]
  },
  {
   "cell_type": "code",
   "execution_count": 8,
   "id": "126aa6c5",
   "metadata": {},
   "outputs": [
    {
     "data": {
      "text/plain": [
       "[<matplotlib.lines.Line2D at 0x1da1b1eedd0>]"
      ]
     },
     "execution_count": 8,
     "metadata": {},
     "output_type": "execute_result"
    },
    {
     "data": {
      "image/png": "[encoded data removed]",
      "text/plain": [
       "<Figure size 640x480 with 1 Axes>"
      ]
     },
     "metadata": {},
     "output_type": "display_data"
    }
   ],
   "source": [
    "plt.plot(df[\"OOP\"],df[\"THE\"])"
   ]
  },
  {
   "cell_type": "code",
   "execution_count": 9,
   "id": "148bc3fc",
   "metadata": {},
   "outputs": [
    {
     "data": {
      "text/html": [
       "<div>\n",
       "<style scoped>\n",
       "    .dataframe tbody tr th:only-of-type {\n",
       "        vertical-align: middle;\n",
       "    }\n",
       "\n",
       "    .dataframe tbody tr th {\n",
       "        vertical-align: top;\n",
       "    }\n",
       "\n",
       "    .dataframe thead th {\n",
       "        text-align: right;\n",
       "    }\n",
       "</style>\n",
       "<table border=\"1\" class=\"dataframe\">\n",
       "  <thead>\n",
       "    <tr style=\"text-align: right;\">\n",
       "      <th></th>\n",
       "      <th>Name</th>\n",
       "      <th>Country</th>\n",
       "      <th>OOP</th>\n",
       "      <th>THE</th>\n",
       "      <th>OOPSHARE</th>\n",
       "      <th>CHE</th>\n",
       "    </tr>\n",
       "  </thead>\n",
       "  <tbody>\n",
       "    <tr>\n",
       "      <th>0</th>\n",
       "      <td>Edings</td>\n",
       "      <td>Malawi</td>\n",
       "      <td>12</td>\n",
       "      <td>70</td>\n",
       "      <td>0.171429</td>\n",
       "      <td>0</td>\n",
       "    </tr>\n",
       "    <tr>\n",
       "      <th>1</th>\n",
       "      <td>Esther</td>\n",
       "      <td>Malawi</td>\n",
       "      <td>23</td>\n",
       "      <td>72</td>\n",
       "      <td>0.319444</td>\n",
       "      <td>0</td>\n",
       "    </tr>\n",
       "    <tr>\n",
       "      <th>2</th>\n",
       "      <td>Gift</td>\n",
       "      <td>Malawi</td>\n",
       "      <td>34</td>\n",
       "      <td>74</td>\n",
       "      <td>0.459459</td>\n",
       "      <td>1</td>\n",
       "    </tr>\n",
       "    <tr>\n",
       "      <th>3</th>\n",
       "      <td>Joy</td>\n",
       "      <td>Zambia</td>\n",
       "      <td>45</td>\n",
       "      <td>76</td>\n",
       "      <td>0.592105</td>\n",
       "      <td>1</td>\n",
       "    </tr>\n",
       "    <tr>\n",
       "      <th>4</th>\n",
       "      <td>Gloria</td>\n",
       "      <td>Zimbabwe</td>\n",
       "      <td>67</td>\n",
       "      <td>78</td>\n",
       "      <td>0.858974</td>\n",
       "      <td>1</td>\n",
       "    </tr>\n",
       "    <tr>\n",
       "      <th>5</th>\n",
       "      <td>David</td>\n",
       "      <td>Malawi</td>\n",
       "      <td>78</td>\n",
       "      <td>80</td>\n",
       "      <td>0.975000</td>\n",
       "      <td>1</td>\n",
       "    </tr>\n",
       "    <tr>\n",
       "      <th>6</th>\n",
       "      <td>Trust</td>\n",
       "      <td>Zimbabwe</td>\n",
       "      <td>89</td>\n",
       "      <td>82</td>\n",
       "      <td>1.085366</td>\n",
       "      <td>1</td>\n",
       "    </tr>\n",
       "    <tr>\n",
       "      <th>7</th>\n",
       "      <td>Elizabeth</td>\n",
       "      <td>Zambia</td>\n",
       "      <td>23</td>\n",
       "      <td>84</td>\n",
       "      <td>0.273810</td>\n",
       "      <td>0</td>\n",
       "    </tr>\n",
       "    <tr>\n",
       "      <th>8</th>\n",
       "      <td>Tidziwanji</td>\n",
       "      <td>Malawi</td>\n",
       "      <td>45</td>\n",
       "      <td>86</td>\n",
       "      <td>0.523256</td>\n",
       "      <td>1</td>\n",
       "    </tr>\n",
       "    <tr>\n",
       "      <th>9</th>\n",
       "      <td>Jizalem</td>\n",
       "      <td>Zimbabwe</td>\n",
       "      <td>34</td>\n",
       "      <td>88</td>\n",
       "      <td>0.386364</td>\n",
       "      <td>0</td>\n",
       "    </tr>\n",
       "    <tr>\n",
       "      <th>10</th>\n",
       "      <td>Charles</td>\n",
       "      <td>Zambia</td>\n",
       "      <td>45</td>\n",
       "      <td>90</td>\n",
       "      <td>0.500000</td>\n",
       "      <td>1</td>\n",
       "    </tr>\n",
       "    <tr>\n",
       "      <th>11</th>\n",
       "      <td>Tifana</td>\n",
       "      <td>Malawi</td>\n",
       "      <td>67</td>\n",
       "      <td>92</td>\n",
       "      <td>0.728261</td>\n",
       "      <td>1</td>\n",
       "    </tr>\n",
       "    <tr>\n",
       "      <th>12</th>\n",
       "      <td>White</td>\n",
       "      <td>Malawi</td>\n",
       "      <td>78</td>\n",
       "      <td>94</td>\n",
       "      <td>0.829787</td>\n",
       "      <td>1</td>\n",
       "    </tr>\n",
       "    <tr>\n",
       "      <th>13</th>\n",
       "      <td>Joe</td>\n",
       "      <td>Malawi</td>\n",
       "      <td>89</td>\n",
       "      <td>96</td>\n",
       "      <td>0.927083</td>\n",
       "      <td>1</td>\n",
       "    </tr>\n",
       "    <tr>\n",
       "      <th>14</th>\n",
       "      <td>Rose</td>\n",
       "      <td>Zambia</td>\n",
       "      <td>89</td>\n",
       "      <td>98</td>\n",
       "      <td>0.908163</td>\n",
       "      <td>1</td>\n",
       "    </tr>\n",
       "    <tr>\n",
       "      <th>15</th>\n",
       "      <td>Dalin</td>\n",
       "      <td>Zimbabwe</td>\n",
       "      <td>56</td>\n",
       "      <td>100</td>\n",
       "      <td>0.560000</td>\n",
       "      <td>1</td>\n",
       "    </tr>\n",
       "    <tr>\n",
       "      <th>16</th>\n",
       "      <td>Tiyanjane</td>\n",
       "      <td>Zambia</td>\n",
       "      <td>78</td>\n",
       "      <td>102</td>\n",
       "      <td>0.764706</td>\n",
       "      <td>1</td>\n",
       "    </tr>\n",
       "    <tr>\n",
       "      <th>17</th>\n",
       "      <td>Saela</td>\n",
       "      <td>Malawi</td>\n",
       "      <td>56</td>\n",
       "      <td>104</td>\n",
       "      <td>0.538462</td>\n",
       "      <td>1</td>\n",
       "    </tr>\n",
       "    <tr>\n",
       "      <th>18</th>\n",
       "      <td>Chodziwadziwa</td>\n",
       "      <td>Malawi</td>\n",
       "      <td>34</td>\n",
       "      <td>106</td>\n",
       "      <td>0.320755</td>\n",
       "      <td>0</td>\n",
       "    </tr>\n",
       "  </tbody>\n",
       "</table>\n",
       "</div>"
      ],
      "text/plain": [
       "             Name   Country  OOP  THE  OOPSHARE  CHE\n",
       "0          Edings    Malawi   12   70  0.171429    0\n",
       "1          Esther    Malawi   23   72  0.319444    0\n",
       "2            Gift    Malawi   34   74  0.459459    1\n",
       "3             Joy    Zambia   45   76  0.592105    1\n",
       "4          Gloria  Zimbabwe   67   78  0.858974    1\n",
       "5           David    Malawi   78   80  0.975000    1\n",
       "6           Trust  Zimbabwe   89   82  1.085366    1\n",
       "7       Elizabeth    Zambia   23   84  0.273810    0\n",
       "8      Tidziwanji    Malawi   45   86  0.523256    1\n",
       "9         Jizalem  Zimbabwe   34   88  0.386364    0\n",
       "10        Charles    Zambia   45   90  0.500000    1\n",
       "11         Tifana    Malawi   67   92  0.728261    1\n",
       "12          White    Malawi   78   94  0.829787    1\n",
       "13            Joe    Malawi   89   96  0.927083    1\n",
       "14           Rose    Zambia   89   98  0.908163    1\n",
       "15          Dalin  Zimbabwe   56  100  0.560000    1\n",
       "16      Tiyanjane    Zambia   78  102  0.764706    1\n",
       "17          Saela    Malawi   56  104  0.538462    1\n",
       "18  Chodziwadziwa    Malawi   34  106  0.320755    0"
      ]
     },
     "execution_count": 9,
     "metadata": {},
     "output_type": "execute_result"
    }
   ],
   "source": [
    "df"
   ]
  },
  {
   "cell_type": "code",
   "execution_count": 10,
   "id": "2ac5f622",
   "metadata": {},
   "outputs": [
    {
     "data": {
      "text/plain": [
       "[<matplotlib.lines.Line2D at 0x1da1b494e90>]"
      ]
     },
     "execution_count": 10,
     "metadata": {},
     "output_type": "execute_result"
    },
    {
     "data": {
      "image/png": "[encoded data removed]",
      "text/plain": [
       "<Figure size 640x480 with 1 Axes>"
      ]
     },
     "metadata": {},
     "output_type": "display_data"
    }
   ],
   "source": [
    "plt.plot(df[\"OOP\"], lw=5, color=\"red\", ls=\"dashed\")\n"
   ]
  },
  {
   "cell_type": "code",
   "execution_count": 11,
   "id": "bc6e7019",
   "metadata": {},
   "outputs": [
    {
     "data": {
      "text/plain": [
       "(array([3., 3., 5., 2., 6.]),\n",
       " array([12. , 27.4, 42.8, 58.2, 73.6, 89. ]),\n",
       " <BarContainer object of 5 artists>)"
      ]
     },
     "execution_count": 11,
     "metadata": {},
     "output_type": "execute_result"
    },
    {
     "data": {
      "image/png": "[encoded data removed]",
      "text/plain": [
       "<Figure size 640x480 with 1 Axes>"
      ]
     },
     "metadata": {},
     "output_type": "display_data"
    }
   ],
   "source": [
    "plt.hist(df[\"OOP\"], bins=5)"
   ]
  },
  {
   "cell_type": "code",
   "execution_count": 12,
   "id": "9df72dcb",
   "metadata": {},
   "outputs": [
    {
     "data": {
      "text/html": [
       "<div>\n",
       "<style scoped>\n",
       "    .dataframe tbody tr th:only-of-type {\n",
       "        vertical-align: middle;\n",
       "    }\n",
       "\n",
       "    .dataframe tbody tr th {\n",
       "        vertical-align: top;\n",
       "    }\n",
       "\n",
       "    .dataframe thead th {\n",
       "        text-align: right;\n",
       "    }\n",
       "</style>\n",
       "<table border=\"1\" class=\"dataframe\">\n",
       "  <thead>\n",
       "    <tr style=\"text-align: right;\">\n",
       "      <th></th>\n",
       "      <th>Name</th>\n",
       "      <th>Country</th>\n",
       "      <th>OOP</th>\n",
       "      <th>THE</th>\n",
       "      <th>OOPSHARE</th>\n",
       "      <th>CHE</th>\n",
       "    </tr>\n",
       "  </thead>\n",
       "  <tbody>\n",
       "    <tr>\n",
       "      <th>0</th>\n",
       "      <td>Edings</td>\n",
       "      <td>Malawi</td>\n",
       "      <td>12</td>\n",
       "      <td>70</td>\n",
       "      <td>0.171429</td>\n",
       "      <td>0</td>\n",
       "    </tr>\n",
       "    <tr>\n",
       "      <th>1</th>\n",
       "      <td>Esther</td>\n",
       "      <td>Malawi</td>\n",
       "      <td>23</td>\n",
       "      <td>72</td>\n",
       "      <td>0.319444</td>\n",
       "      <td>0</td>\n",
       "    </tr>\n",
       "    <tr>\n",
       "      <th>2</th>\n",
       "      <td>Gift</td>\n",
       "      <td>Malawi</td>\n",
       "      <td>34</td>\n",
       "      <td>74</td>\n",
       "      <td>0.459459</td>\n",
       "      <td>1</td>\n",
       "    </tr>\n",
       "    <tr>\n",
       "      <th>3</th>\n",
       "      <td>Joy</td>\n",
       "      <td>Zambia</td>\n",
       "      <td>45</td>\n",
       "      <td>76</td>\n",
       "      <td>0.592105</td>\n",
       "      <td>1</td>\n",
       "    </tr>\n",
       "    <tr>\n",
       "      <th>4</th>\n",
       "      <td>Gloria</td>\n",
       "      <td>Zimbabwe</td>\n",
       "      <td>67</td>\n",
       "      <td>78</td>\n",
       "      <td>0.858974</td>\n",
       "      <td>1</td>\n",
       "    </tr>\n",
       "    <tr>\n",
       "      <th>5</th>\n",
       "      <td>David</td>\n",
       "      <td>Malawi</td>\n",
       "      <td>78</td>\n",
       "      <td>80</td>\n",
       "      <td>0.975000</td>\n",
       "      <td>1</td>\n",
       "    </tr>\n",
       "    <tr>\n",
       "      <th>6</th>\n",
       "      <td>Trust</td>\n",
       "      <td>Zimbabwe</td>\n",
       "      <td>89</td>\n",
       "      <td>82</td>\n",
       "      <td>1.085366</td>\n",
       "      <td>1</td>\n",
       "    </tr>\n",
       "    <tr>\n",
       "      <th>7</th>\n",
       "      <td>Elizabeth</td>\n",
       "      <td>Zambia</td>\n",
       "      <td>23</td>\n",
       "      <td>84</td>\n",
       "      <td>0.273810</td>\n",
       "      <td>0</td>\n",
       "    </tr>\n",
       "    <tr>\n",
       "      <th>8</th>\n",
       "      <td>Tidziwanji</td>\n",
       "      <td>Malawi</td>\n",
       "      <td>45</td>\n",
       "      <td>86</td>\n",
       "      <td>0.523256</td>\n",
       "      <td>1</td>\n",
       "    </tr>\n",
       "    <tr>\n",
       "      <th>9</th>\n",
       "      <td>Jizalem</td>\n",
       "      <td>Zimbabwe</td>\n",
       "      <td>34</td>\n",
       "      <td>88</td>\n",
       "      <td>0.386364</td>\n",
       "      <td>0</td>\n",
       "    </tr>\n",
       "    <tr>\n",
       "      <th>10</th>\n",
       "      <td>Charles</td>\n",
       "      <td>Zambia</td>\n",
       "      <td>45</td>\n",
       "      <td>90</td>\n",
       "      <td>0.500000</td>\n",
       "      <td>1</td>\n",
       "    </tr>\n",
       "    <tr>\n",
       "      <th>11</th>\n",
       "      <td>Tifana</td>\n",
       "      <td>Malawi</td>\n",
       "      <td>67</td>\n",
       "      <td>92</td>\n",
       "      <td>0.728261</td>\n",
       "      <td>1</td>\n",
       "    </tr>\n",
       "    <tr>\n",
       "      <th>12</th>\n",
       "      <td>White</td>\n",
       "      <td>Malawi</td>\n",
       "      <td>78</td>\n",
       "      <td>94</td>\n",
       "      <td>0.829787</td>\n",
       "      <td>1</td>\n",
       "    </tr>\n",
       "    <tr>\n",
       "      <th>13</th>\n",
       "      <td>Joe</td>\n",
       "      <td>Malawi</td>\n",
       "      <td>89</td>\n",
       "      <td>96</td>\n",
       "      <td>0.927083</td>\n",
       "      <td>1</td>\n",
       "    </tr>\n",
       "    <tr>\n",
       "      <th>14</th>\n",
       "      <td>Rose</td>\n",
       "      <td>Zambia</td>\n",
       "      <td>89</td>\n",
       "      <td>98</td>\n",
       "      <td>0.908163</td>\n",
       "      <td>1</td>\n",
       "    </tr>\n",
       "    <tr>\n",
       "      <th>15</th>\n",
       "      <td>Dalin</td>\n",
       "      <td>Zimbabwe</td>\n",
       "      <td>56</td>\n",
       "      <td>100</td>\n",
       "      <td>0.560000</td>\n",
       "      <td>1</td>\n",
       "    </tr>\n",
       "    <tr>\n",
       "      <th>16</th>\n",
       "      <td>Tiyanjane</td>\n",
       "      <td>Zambia</td>\n",
       "      <td>78</td>\n",
       "      <td>102</td>\n",
       "      <td>0.764706</td>\n",
       "      <td>1</td>\n",
       "    </tr>\n",
       "    <tr>\n",
       "      <th>17</th>\n",
       "      <td>Saela</td>\n",
       "      <td>Malawi</td>\n",
       "      <td>56</td>\n",
       "      <td>104</td>\n",
       "      <td>0.538462</td>\n",
       "      <td>1</td>\n",
       "    </tr>\n",
       "    <tr>\n",
       "      <th>18</th>\n",
       "      <td>Chodziwadziwa</td>\n",
       "      <td>Malawi</td>\n",
       "      <td>34</td>\n",
       "      <td>106</td>\n",
       "      <td>0.320755</td>\n",
       "      <td>0</td>\n",
       "    </tr>\n",
       "  </tbody>\n",
       "</table>\n",
       "</div>"
      ],
      "text/plain": [
       "             Name   Country  OOP  THE  OOPSHARE  CHE\n",
       "0          Edings    Malawi   12   70  0.171429    0\n",
       "1          Esther    Malawi   23   72  0.319444    0\n",
       "2            Gift    Malawi   34   74  0.459459    1\n",
       "3             Joy    Zambia   45   76  0.592105    1\n",
       "4          Gloria  Zimbabwe   67   78  0.858974    1\n",
       "5           David    Malawi   78   80  0.975000    1\n",
       "6           Trust  Zimbabwe   89   82  1.085366    1\n",
       "7       Elizabeth    Zambia   23   84  0.273810    0\n",
       "8      Tidziwanji    Malawi   45   86  0.523256    1\n",
       "9         Jizalem  Zimbabwe   34   88  0.386364    0\n",
       "10        Charles    Zambia   45   90  0.500000    1\n",
       "11         Tifana    Malawi   67   92  0.728261    1\n",
       "12          White    Malawi   78   94  0.829787    1\n",
       "13            Joe    Malawi   89   96  0.927083    1\n",
       "14           Rose    Zambia   89   98  0.908163    1\n",
       "15          Dalin  Zimbabwe   56  100  0.560000    1\n",
       "16      Tiyanjane    Zambia   78  102  0.764706    1\n",
       "17          Saela    Malawi   56  104  0.538462    1\n",
       "18  Chodziwadziwa    Malawi   34  106  0.320755    0"
      ]
     },
     "execution_count": 12,
     "metadata": {},
     "output_type": "execute_result"
    }
   ],
   "source": [
    "df"
   ]
  },
  {
   "cell_type": "code",
   "execution_count": 13,
   "id": "eac38154",
   "metadata": {},
   "outputs": [
    {
     "data": {
      "text/html": [
       "<div>\n",
       "<style scoped>\n",
       "    .dataframe tbody tr th:only-of-type {\n",
       "        vertical-align: middle;\n",
       "    }\n",
       "\n",
       "    .dataframe tbody tr th {\n",
       "        vertical-align: top;\n",
       "    }\n",
       "\n",
       "    .dataframe thead th {\n",
       "        text-align: right;\n",
       "    }\n",
       "</style>\n",
       "<table border=\"1\" class=\"dataframe\">\n",
       "  <thead>\n",
       "    <tr style=\"text-align: right;\">\n",
       "      <th></th>\n",
       "      <th>Name</th>\n",
       "      <th>Country</th>\n",
       "      <th>OOP</th>\n",
       "      <th>THE</th>\n",
       "      <th>OOPSHARE</th>\n",
       "      <th>CHE</th>\n",
       "    </tr>\n",
       "  </thead>\n",
       "  <tbody>\n",
       "    <tr>\n",
       "      <th>0</th>\n",
       "      <td>Edings</td>\n",
       "      <td>Malawi</td>\n",
       "      <td>12</td>\n",
       "      <td>70</td>\n",
       "      <td>0.171429</td>\n",
       "      <td>0</td>\n",
       "    </tr>\n",
       "    <tr>\n",
       "      <th>1</th>\n",
       "      <td>Esther</td>\n",
       "      <td>Malawi</td>\n",
       "      <td>23</td>\n",
       "      <td>72</td>\n",
       "      <td>0.319444</td>\n",
       "      <td>0</td>\n",
       "    </tr>\n",
       "    <tr>\n",
       "      <th>2</th>\n",
       "      <td>Gift</td>\n",
       "      <td>Malawi</td>\n",
       "      <td>34</td>\n",
       "      <td>74</td>\n",
       "      <td>0.459459</td>\n",
       "      <td>1</td>\n",
       "    </tr>\n",
       "    <tr>\n",
       "      <th>3</th>\n",
       "      <td>Joy</td>\n",
       "      <td>Zambia</td>\n",
       "      <td>45</td>\n",
       "      <td>76</td>\n",
       "      <td>0.592105</td>\n",
       "      <td>1</td>\n",
       "    </tr>\n",
       "    <tr>\n",
       "      <th>4</th>\n",
       "      <td>Gloria</td>\n",
       "      <td>Zimbabwe</td>\n",
       "      <td>67</td>\n",
       "      <td>78</td>\n",
       "      <td>0.858974</td>\n",
       "      <td>1</td>\n",
       "    </tr>\n",
       "    <tr>\n",
       "      <th>5</th>\n",
       "      <td>David</td>\n",
       "      <td>Malawi</td>\n",
       "      <td>78</td>\n",
       "      <td>80</td>\n",
       "      <td>0.975000</td>\n",
       "      <td>1</td>\n",
       "    </tr>\n",
       "    <tr>\n",
       "      <th>6</th>\n",
       "      <td>Trust</td>\n",
       "      <td>Zimbabwe</td>\n",
       "      <td>89</td>\n",
       "      <td>82</td>\n",
       "      <td>1.085366</td>\n",
       "      <td>1</td>\n",
       "    </tr>\n",
       "    <tr>\n",
       "      <th>7</th>\n",
       "      <td>Elizabeth</td>\n",
       "      <td>Zambia</td>\n",
       "      <td>23</td>\n",
       "      <td>84</td>\n",
       "      <td>0.273810</td>\n",
       "      <td>0</td>\n",
       "    </tr>\n",
       "    <tr>\n",
       "      <th>8</th>\n",
       "      <td>Tidziwanji</td>\n",
       "      <td>Malawi</td>\n",
       "      <td>45</td>\n",
       "      <td>86</td>\n",
       "      <td>0.523256</td>\n",
       "      <td>1</td>\n",
       "    </tr>\n",
       "    <tr>\n",
       "      <th>9</th>\n",
       "      <td>Jizalem</td>\n",
       "      <td>Zimbabwe</td>\n",
       "      <td>34</td>\n",
       "      <td>88</td>\n",
       "      <td>0.386364</td>\n",
       "      <td>0</td>\n",
       "    </tr>\n",
       "    <tr>\n",
       "      <th>10</th>\n",
       "      <td>Charles</td>\n",
       "      <td>Zambia</td>\n",
       "      <td>45</td>\n",
       "      <td>90</td>\n",
       "      <td>0.500000</td>\n",
       "      <td>1</td>\n",
       "    </tr>\n",
       "    <tr>\n",
       "      <th>11</th>\n",
       "      <td>Tifana</td>\n",
       "      <td>Malawi</td>\n",
       "      <td>67</td>\n",
       "      <td>92</td>\n",
       "      <td>0.728261</td>\n",
       "      <td>1</td>\n",
       "    </tr>\n",
       "    <tr>\n",
       "      <th>12</th>\n",
       "      <td>White</td>\n",
       "      <td>Malawi</td>\n",
       "      <td>78</td>\n",
       "      <td>94</td>\n",
       "      <td>0.829787</td>\n",
       "      <td>1</td>\n",
       "    </tr>\n",
       "    <tr>\n",
       "      <th>13</th>\n",
       "      <td>Joe</td>\n",
       "      <td>Malawi</td>\n",
       "      <td>89</td>\n",
       "      <td>96</td>\n",
       "      <td>0.927083</td>\n",
       "      <td>1</td>\n",
       "    </tr>\n",
       "    <tr>\n",
       "      <th>14</th>\n",
       "      <td>Rose</td>\n",
       "      <td>Zambia</td>\n",
       "      <td>89</td>\n",
       "      <td>98</td>\n",
       "      <td>0.908163</td>\n",
       "      <td>1</td>\n",
       "    </tr>\n",
       "    <tr>\n",
       "      <th>15</th>\n",
       "      <td>Dalin</td>\n",
       "      <td>Zimbabwe</td>\n",
       "      <td>56</td>\n",
       "      <td>100</td>\n",
       "      <td>0.560000</td>\n",
       "      <td>1</td>\n",
       "    </tr>\n",
       "    <tr>\n",
       "      <th>16</th>\n",
       "      <td>Tiyanjane</td>\n",
       "      <td>Zambia</td>\n",
       "      <td>78</td>\n",
       "      <td>102</td>\n",
       "      <td>0.764706</td>\n",
       "      <td>1</td>\n",
       "    </tr>\n",
       "    <tr>\n",
       "      <th>17</th>\n",
       "      <td>Saela</td>\n",
       "      <td>Malawi</td>\n",
       "      <td>56</td>\n",
       "      <td>104</td>\n",
       "      <td>0.538462</td>\n",
       "      <td>1</td>\n",
       "    </tr>\n",
       "    <tr>\n",
       "      <th>18</th>\n",
       "      <td>Chodziwadziwa</td>\n",
       "      <td>Malawi</td>\n",
       "      <td>34</td>\n",
       "      <td>106</td>\n",
       "      <td>0.320755</td>\n",
       "      <td>0</td>\n",
       "    </tr>\n",
       "  </tbody>\n",
       "</table>\n",
       "</div>"
      ],
      "text/plain": [
       "             Name   Country  OOP  THE  OOPSHARE  CHE\n",
       "0          Edings    Malawi   12   70  0.171429    0\n",
       "1          Esther    Malawi   23   72  0.319444    0\n",
       "2            Gift    Malawi   34   74  0.459459    1\n",
       "3             Joy    Zambia   45   76  0.592105    1\n",
       "4          Gloria  Zimbabwe   67   78  0.858974    1\n",
       "5           David    Malawi   78   80  0.975000    1\n",
       "6           Trust  Zimbabwe   89   82  1.085366    1\n",
       "7       Elizabeth    Zambia   23   84  0.273810    0\n",
       "8      Tidziwanji    Malawi   45   86  0.523256    1\n",
       "9         Jizalem  Zimbabwe   34   88  0.386364    0\n",
       "10        Charles    Zambia   45   90  0.500000    1\n",
       "11         Tifana    Malawi   67   92  0.728261    1\n",
       "12          White    Malawi   78   94  0.829787    1\n",
       "13            Joe    Malawi   89   96  0.927083    1\n",
       "14           Rose    Zambia   89   98  0.908163    1\n",
       "15          Dalin  Zimbabwe   56  100  0.560000    1\n",
       "16      Tiyanjane    Zambia   78  102  0.764706    1\n",
       "17          Saela    Malawi   56  104  0.538462    1\n",
       "18  Chodziwadziwa    Malawi   34  106  0.320755    0"
      ]
     },
     "execution_count": 13,
     "metadata": {},
     "output_type": "execute_result"
    }
   ],
   "source": [
    "df.drop_duplicates()"
   ]
  },
  {
   "cell_type": "code",
   "execution_count": 14,
   "id": "0219eb5a",
   "metadata": {},
   "outputs": [
    {
     "data": {
      "text/plain": [
       "19"
      ]
     },
     "execution_count": 14,
     "metadata": {},
     "output_type": "execute_result"
    }
   ],
   "source": [
    "len(df)"
   ]
  },
  {
   "cell_type": "code",
   "execution_count": 15,
   "id": "57025429",
   "metadata": {},
   "outputs": [
    {
     "data": {
      "text/plain": [
       "Text(0.5, 1.0, 'Graph of Out of pocket Expenditure vs OOP share ')"
      ]
     },
     "execution_count": 15,
     "metadata": {},
     "output_type": "execute_result"
    },
    {
     "data": {
      "image/png": "[encoded data removed]",
      "text/plain": [
       "<Figure size 640x480 with 1 Axes>"
      ]
     },
     "metadata": {},
     "output_type": "display_data"
    }
   ],
   "source": [
    "plt.scatter(df[\"OOP\"], df[\"OOPSHARE\"], color=\"yellow\" )\n",
    "plt.xlabel(\"OOP\")\n",
    "plt.ylabel(\"OOPSHARE\")\n",
    "plt.title(\"Graph of Out of pocket Expenditure vs OOP share \")"
   ]
  },
  {
   "cell_type": "code",
   "execution_count": 16,
   "id": "ef1a27fb",
   "metadata": {
    "scrolled": false
   },
   "outputs": [
    {
     "data": {
      "text/plain": [
       "([<matplotlib.patches.Wedge at 0x1da1b443d50>,\n",
       "  <matplotlib.patches.Wedge at 0x1da1c61d250>],\n",
       " [Text(-1.1, 1.3471114790620887e-16, 'Catastrophic'),\n",
       "  Text(1.1, -2.6942229581241775e-16, 'Not catastrophic')])"
      ]
     },
     "execution_count": 16,
     "metadata": {},
     "output_type": "execute_result"
    },
    {
     "data": {
      "image/png": "[encoded data removed]",
      "text/plain": [
       "<Figure size 640x480 with 1 Axes>"
      ]
     },
     "metadata": {},
     "output_type": "display_data"
    }
   ],
   "source": [
    "value=df[\"CHE\"].value_counts()\n",
    "sizes=value.index\n",
    "label=[\"Catastrophic\", \"Not catastrophic\"]\n",
    "plt.pie(sizes, labels=label)"
   ]
  },
  {
   "cell_type": "code",
   "execution_count": 17,
   "id": "6e29eaf9",
   "metadata": {},
   "outputs": [],
   "source": [
    "value=df[\"CHE\"].value_counts()"
   ]
  },
  {
   "cell_type": "code",
   "execution_count": 18,
   "id": "f1fbf3eb",
   "metadata": {
    "scrolled": true
   },
   "outputs": [
    {
     "data": {
      "text/plain": [
       "CHE\n",
       "1    14\n",
       "0     5\n",
       "Name: count, dtype: int64"
      ]
     },
     "execution_count": 18,
     "metadata": {},
     "output_type": "execute_result"
    }
   ],
   "source": [
    "value"
   ]
  },
  {
   "cell_type": "code",
   "execution_count": null,
   "id": "7a6425dc",
   "metadata": {},
   "outputs": [],
   "source": []
  },
  {
   "cell_type": "code",
   "execution_count": 19,
   "id": "4ab7547b",
   "metadata": {},
   "outputs": [
    {
     "data": {
      "text/plain": [
       "Text(0.5, 1.0, 'Pie chart of Catastrophic health Expenditures')"
      ]
     },
     "execution_count": 19,
     "metadata": {},
     "output_type": "execute_result"
    },
    {
     "data": {
      "image/png": "[encoded data removed]",
      "text/plain": [
       "<Figure size 640x480 with 1 Axes>"
      ]
     },
     "metadata": {},
     "output_type": "display_data"
    }
   ],
   "source": [
    "plt.pie(df[\"CHE\"].value_counts(), labels=[\"CHE\", \"NO CHE\"], colors=[\"black\", \"red\"], explode=[0.1,0], startangle=90)\n",
    "plt.title(\"Pie chart of Catastrophic health Expenditures\",\n",
    "          color=\"red\", fontsize=20, fontname= \"poppins\"\n",
    "         )\n"
   ]
  },
  {
   "cell_type": "code",
   "execution_count": 20,
   "id": "281db0e0",
   "metadata": {},
   "outputs": [
    {
     "data": {
      "text/plain": [
       "<matplotlib.collections.PathCollection at 0x1da1c5e6a10>"
      ]
     },
     "execution_count": 20,
     "metadata": {},
     "output_type": "execute_result"
    },
    {
     "data": {
      "image/png": "[encoded data removed]",
      "text/plain": [
       "<Figure size 640x480 with 1 Axes>"
      ]
     },
     "metadata": {},
     "output_type": "display_data"
    }
   ],
   "source": [
    "plt.scatter(df[\"OOP\"], df[\"OOPSHARE\"], )"
   ]
  },
  {
   "cell_type": "code",
   "execution_count": null,
   "id": "1ce42dd2",
   "metadata": {},
   "outputs": [],
   "source": []
  },
  {
   "cell_type": "code",
   "execution_count": 21,
   "id": "43bdc4ee",
   "metadata": {
    "scrolled": true
   },
   "outputs": [
    {
     "data": {
      "text/plain": [
       "Country\n",
       "Malawi      10\n",
       "Zambia       5\n",
       "Zimbabwe     4\n",
       "Name: count, dtype: int64"
      ]
     },
     "execution_count": 21,
     "metadata": {},
     "output_type": "execute_result"
    }
   ],
   "source": [
    "df[\"Country\"].value_counts()"
   ]
  },
  {
   "cell_type": "code",
   "execution_count": 22,
   "id": "4c391983",
   "metadata": {},
   "outputs": [
    {
     "data": {
      "text/plain": [
       "([<matplotlib.patches.Wedge at 0x1da1c845710>,\n",
       "  <matplotlib.patches.Wedge at 0x1da1c846390>,\n",
       "  <matplotlib.patches.Wedge at 0x1da1c847890>],\n",
       " [Text(-0.09083734484335805, 1.0962429369358824, 'Malawi'),\n",
       "  Text(-0.6016428377989248, -0.9208832150306883, 'Zambia'),\n",
       "  Text(0.8680546835215183, -0.6756338256898902, 'Zimbabwe')])"
      ]
     },
     "execution_count": 22,
     "metadata": {},
     "output_type": "execute_result"
    },
    {
     "data": {
      "image/png": "[encoded data removed]",
      "text/plain": [
       "<Figure size 640x480 with 1 Axes>"
      ]
     },
     "metadata": {},
     "output_type": "display_data"
    }
   ],
   "source": [
    "plt.pie(df[\"Country\"].value_counts(), labels=[\"Malawi\", \"Zambia\", \"Zimbabwe\"])"
   ]
  },
  {
   "cell_type": "code",
   "execution_count": 23,
   "id": "e58558fe",
   "metadata": {},
   "outputs": [
    {
     "data": {
      "text/plain": [
       "Text(0.5, 1.0, 'Horizontal Barchart')"
      ]
     },
     "execution_count": 23,
     "metadata": {},
     "output_type": "execute_result"
    },
    {
     "data": {
      "image/png": "[encoded data removed]",
      "text/plain": [
       "<Figure size 640x480 with 1 Axes>"
      ]
     },
     "metadata": {},
     "output_type": "display_data"
    }
   ],
   "source": [
    "plt.barh(df[\"Name\"], df[\"OOP\"], align=\"edge\")\n",
    "plt.xlabel(\"OOP\")\n",
    "plt.ylabel(\"Name\")\n",
    "plt.title(\"Horizontal Barchart\")"
   ]
  },
  {
   "cell_type": "code",
   "execution_count": 24,
   "id": "3adfcca4",
   "metadata": {},
   "outputs": [
    {
     "data": {
      "text/html": [
       "<div>\n",
       "<style scoped>\n",
       "    .dataframe tbody tr th:only-of-type {\n",
       "        vertical-align: middle;\n",
       "    }\n",
       "\n",
       "    .dataframe tbody tr th {\n",
       "        vertical-align: top;\n",
       "    }\n",
       "\n",
       "    .dataframe thead th {\n",
       "        text-align: right;\n",
       "    }\n",
       "</style>\n",
       "<table border=\"1\" class=\"dataframe\">\n",
       "  <thead>\n",
       "    <tr style=\"text-align: right;\">\n",
       "      <th></th>\n",
       "      <th>Name</th>\n",
       "      <th>Country</th>\n",
       "      <th>OOP</th>\n",
       "      <th>THE</th>\n",
       "      <th>OOPSHARE</th>\n",
       "      <th>CHE</th>\n",
       "    </tr>\n",
       "  </thead>\n",
       "  <tbody>\n",
       "    <tr>\n",
       "      <th>0</th>\n",
       "      <td>Edings</td>\n",
       "      <td>Malawi</td>\n",
       "      <td>12</td>\n",
       "      <td>70</td>\n",
       "      <td>0.171429</td>\n",
       "      <td>0</td>\n",
       "    </tr>\n",
       "    <tr>\n",
       "      <th>1</th>\n",
       "      <td>Esther</td>\n",
       "      <td>Malawi</td>\n",
       "      <td>23</td>\n",
       "      <td>72</td>\n",
       "      <td>0.319444</td>\n",
       "      <td>0</td>\n",
       "    </tr>\n",
       "    <tr>\n",
       "      <th>2</th>\n",
       "      <td>Gift</td>\n",
       "      <td>Malawi</td>\n",
       "      <td>34</td>\n",
       "      <td>74</td>\n",
       "      <td>0.459459</td>\n",
       "      <td>1</td>\n",
       "    </tr>\n",
       "    <tr>\n",
       "      <th>3</th>\n",
       "      <td>Joy</td>\n",
       "      <td>Zambia</td>\n",
       "      <td>45</td>\n",
       "      <td>76</td>\n",
       "      <td>0.592105</td>\n",
       "      <td>1</td>\n",
       "    </tr>\n",
       "    <tr>\n",
       "      <th>4</th>\n",
       "      <td>Gloria</td>\n",
       "      <td>Zimbabwe</td>\n",
       "      <td>67</td>\n",
       "      <td>78</td>\n",
       "      <td>0.858974</td>\n",
       "      <td>1</td>\n",
       "    </tr>\n",
       "  </tbody>\n",
       "</table>\n",
       "</div>"
      ],
      "text/plain": [
       "     Name   Country  OOP  THE  OOPSHARE  CHE\n",
       "0  Edings    Malawi   12   70  0.171429    0\n",
       "1  Esther    Malawi   23   72  0.319444    0\n",
       "2    Gift    Malawi   34   74  0.459459    1\n",
       "3     Joy    Zambia   45   76  0.592105    1\n",
       "4  Gloria  Zimbabwe   67   78  0.858974    1"
      ]
     },
     "execution_count": 24,
     "metadata": {},
     "output_type": "execute_result"
    }
   ],
   "source": [
    "df.head()"
   ]
  },
  {
   "cell_type": "code",
   "execution_count": 25,
   "id": "b1d73c9b",
   "metadata": {},
   "outputs": [
    {
     "data": {
      "text/plain": [
       "0    12\n",
       "1    23\n",
       "7    23\n",
       "Name: OOP, dtype: int64"
      ]
     },
     "execution_count": 25,
     "metadata": {},
     "output_type": "execute_result"
    }
   ],
   "source": [
    "df[\"OOP\"][df[\"OOP\"]<30]"
   ]
  },
  {
   "cell_type": "code",
   "execution_count": 26,
   "id": "8e80b60b",
   "metadata": {},
   "outputs": [
    {
     "data": {
      "text/html": [
       "<div>\n",
       "<style scoped>\n",
       "    .dataframe tbody tr th:only-of-type {\n",
       "        vertical-align: middle;\n",
       "    }\n",
       "\n",
       "    .dataframe tbody tr th {\n",
       "        vertical-align: top;\n",
       "    }\n",
       "\n",
       "    .dataframe thead th {\n",
       "        text-align: right;\n",
       "    }\n",
       "</style>\n",
       "<table border=\"1\" class=\"dataframe\">\n",
       "  <thead>\n",
       "    <tr style=\"text-align: right;\">\n",
       "      <th></th>\n",
       "      <th>0</th>\n",
       "      <th>1</th>\n",
       "      <th>2</th>\n",
       "      <th>3</th>\n",
       "      <th>4</th>\n",
       "      <th>5</th>\n",
       "      <th>6</th>\n",
       "      <th>7</th>\n",
       "      <th>8</th>\n",
       "      <th>9</th>\n",
       "      <th>10</th>\n",
       "      <th>11</th>\n",
       "      <th>12</th>\n",
       "      <th>13</th>\n",
       "      <th>14</th>\n",
       "      <th>15</th>\n",
       "      <th>16</th>\n",
       "      <th>17</th>\n",
       "      <th>18</th>\n",
       "    </tr>\n",
       "  </thead>\n",
       "  <tbody>\n",
       "    <tr>\n",
       "      <th>Name</th>\n",
       "      <td>Edings</td>\n",
       "      <td>Esther</td>\n",
       "      <td>Gift</td>\n",
       "      <td>Joy</td>\n",
       "      <td>Gloria</td>\n",
       "      <td>David</td>\n",
       "      <td>Trust</td>\n",
       "      <td>Elizabeth</td>\n",
       "      <td>Tidziwanji</td>\n",
       "      <td>Jizalem</td>\n",
       "      <td>Charles</td>\n",
       "      <td>Tifana</td>\n",
       "      <td>White</td>\n",
       "      <td>Joe</td>\n",
       "      <td>Rose</td>\n",
       "      <td>Dalin</td>\n",
       "      <td>Tiyanjane</td>\n",
       "      <td>Saela</td>\n",
       "      <td>Chodziwadziwa</td>\n",
       "    </tr>\n",
       "    <tr>\n",
       "      <th>Country</th>\n",
       "      <td>Malawi</td>\n",
       "      <td>Malawi</td>\n",
       "      <td>Malawi</td>\n",
       "      <td>Zambia</td>\n",
       "      <td>Zimbabwe</td>\n",
       "      <td>Malawi</td>\n",
       "      <td>Zimbabwe</td>\n",
       "      <td>Zambia</td>\n",
       "      <td>Malawi</td>\n",
       "      <td>Zimbabwe</td>\n",
       "      <td>Zambia</td>\n",
       "      <td>Malawi</td>\n",
       "      <td>Malawi</td>\n",
       "      <td>Malawi</td>\n",
       "      <td>Zambia</td>\n",
       "      <td>Zimbabwe</td>\n",
       "      <td>Zambia</td>\n",
       "      <td>Malawi</td>\n",
       "      <td>Malawi</td>\n",
       "    </tr>\n",
       "    <tr>\n",
       "      <th>OOP</th>\n",
       "      <td>12</td>\n",
       "      <td>23</td>\n",
       "      <td>34</td>\n",
       "      <td>45</td>\n",
       "      <td>67</td>\n",
       "      <td>78</td>\n",
       "      <td>89</td>\n",
       "      <td>23</td>\n",
       "      <td>45</td>\n",
       "      <td>34</td>\n",
       "      <td>45</td>\n",
       "      <td>67</td>\n",
       "      <td>78</td>\n",
       "      <td>89</td>\n",
       "      <td>89</td>\n",
       "      <td>56</td>\n",
       "      <td>78</td>\n",
       "      <td>56</td>\n",
       "      <td>34</td>\n",
       "    </tr>\n",
       "    <tr>\n",
       "      <th>THE</th>\n",
       "      <td>70</td>\n",
       "      <td>72</td>\n",
       "      <td>74</td>\n",
       "      <td>76</td>\n",
       "      <td>78</td>\n",
       "      <td>80</td>\n",
       "      <td>82</td>\n",
       "      <td>84</td>\n",
       "      <td>86</td>\n",
       "      <td>88</td>\n",
       "      <td>90</td>\n",
       "      <td>92</td>\n",
       "      <td>94</td>\n",
       "      <td>96</td>\n",
       "      <td>98</td>\n",
       "      <td>100</td>\n",
       "      <td>102</td>\n",
       "      <td>104</td>\n",
       "      <td>106</td>\n",
       "    </tr>\n",
       "    <tr>\n",
       "      <th>OOPSHARE</th>\n",
       "      <td>0.171429</td>\n",
       "      <td>0.319444</td>\n",
       "      <td>0.459459</td>\n",
       "      <td>0.592105</td>\n",
       "      <td>0.858974</td>\n",
       "      <td>0.975</td>\n",
       "      <td>1.085366</td>\n",
       "      <td>0.27381</td>\n",
       "      <td>0.523256</td>\n",
       "      <td>0.386364</td>\n",
       "      <td>0.5</td>\n",
       "      <td>0.728261</td>\n",
       "      <td>0.829787</td>\n",
       "      <td>0.927083</td>\n",
       "      <td>0.908163</td>\n",
       "      <td>0.56</td>\n",
       "      <td>0.764706</td>\n",
       "      <td>0.538462</td>\n",
       "      <td>0.320755</td>\n",
       "    </tr>\n",
       "    <tr>\n",
       "      <th>CHE</th>\n",
       "      <td>0</td>\n",
       "      <td>0</td>\n",
       "      <td>1</td>\n",
       "      <td>1</td>\n",
       "      <td>1</td>\n",
       "      <td>1</td>\n",
       "      <td>1</td>\n",
       "      <td>0</td>\n",
       "      <td>1</td>\n",
       "      <td>0</td>\n",
       "      <td>1</td>\n",
       "      <td>1</td>\n",
       "      <td>1</td>\n",
       "      <td>1</td>\n",
       "      <td>1</td>\n",
       "      <td>1</td>\n",
       "      <td>1</td>\n",
       "      <td>1</td>\n",
       "      <td>0</td>\n",
       "    </tr>\n",
       "  </tbody>\n",
       "</table>\n",
       "</div>"
      ],
      "text/plain": [
       "                0         1         2         3         4       5         6   \\\n",
       "Name        Edings    Esther      Gift       Joy    Gloria   David     Trust   \n",
       "Country     Malawi    Malawi    Malawi    Zambia  Zimbabwe  Malawi  Zimbabwe   \n",
       "OOP             12        23        34        45        67      78        89   \n",
       "THE             70        72        74        76        78      80        82   \n",
       "OOPSHARE  0.171429  0.319444  0.459459  0.592105  0.858974   0.975  1.085366   \n",
       "CHE              0         0         1         1         1       1         1   \n",
       "\n",
       "                 7           8         9        10        11        12  \\\n",
       "Name      Elizabeth  Tidziwanji   Jizalem  Charles    Tifana     White   \n",
       "Country      Zambia      Malawi  Zimbabwe   Zambia    Malawi    Malawi   \n",
       "OOP              23          45        34       45        67        78   \n",
       "THE              84          86        88       90        92        94   \n",
       "OOPSHARE    0.27381    0.523256  0.386364      0.5  0.728261  0.829787   \n",
       "CHE               0           1         0        1         1         1   \n",
       "\n",
       "                13        14        15         16        17             18  \n",
       "Name           Joe      Rose     Dalin  Tiyanjane     Saela  Chodziwadziwa  \n",
       "Country     Malawi    Zambia  Zimbabwe     Zambia    Malawi         Malawi  \n",
       "OOP             89        89        56         78        56             34  \n",
       "THE             96        98       100        102       104            106  \n",
       "OOPSHARE  0.927083  0.908163      0.56   0.764706  0.538462       0.320755  \n",
       "CHE              1         1         1          1         1              0  "
      ]
     },
     "execution_count": 26,
     "metadata": {},
     "output_type": "execute_result"
    }
   ],
   "source": [
    "df.T"
   ]
  },
  {
   "cell_type": "code",
   "execution_count": 27,
   "id": "4ca68234",
   "metadata": {},
   "outputs": [
    {
     "data": {
      "text/html": [
       "<div>\n",
       "<style scoped>\n",
       "    .dataframe tbody tr th:only-of-type {\n",
       "        vertical-align: middle;\n",
       "    }\n",
       "\n",
       "    .dataframe tbody tr th {\n",
       "        vertical-align: top;\n",
       "    }\n",
       "\n",
       "    .dataframe thead th {\n",
       "        text-align: right;\n",
       "    }\n",
       "</style>\n",
       "<table border=\"1\" class=\"dataframe\">\n",
       "  <thead>\n",
       "    <tr style=\"text-align: right;\">\n",
       "      <th></th>\n",
       "      <th>Name</th>\n",
       "      <th>Country</th>\n",
       "      <th>OOP</th>\n",
       "      <th>THE</th>\n",
       "      <th>OOPSHARE</th>\n",
       "      <th>CHE</th>\n",
       "    </tr>\n",
       "  </thead>\n",
       "  <tbody>\n",
       "    <tr>\n",
       "      <th>0</th>\n",
       "      <td>Edings</td>\n",
       "      <td>Malawi</td>\n",
       "      <td>12</td>\n",
       "      <td>70</td>\n",
       "      <td>0.171429</td>\n",
       "      <td>0</td>\n",
       "    </tr>\n",
       "    <tr>\n",
       "      <th>1</th>\n",
       "      <td>Esther</td>\n",
       "      <td>Malawi</td>\n",
       "      <td>23</td>\n",
       "      <td>72</td>\n",
       "      <td>0.319444</td>\n",
       "      <td>0</td>\n",
       "    </tr>\n",
       "    <tr>\n",
       "      <th>2</th>\n",
       "      <td>Gift</td>\n",
       "      <td>Malawi</td>\n",
       "      <td>34</td>\n",
       "      <td>74</td>\n",
       "      <td>0.459459</td>\n",
       "      <td>1</td>\n",
       "    </tr>\n",
       "    <tr>\n",
       "      <th>3</th>\n",
       "      <td>Joy</td>\n",
       "      <td>Zambia</td>\n",
       "      <td>45</td>\n",
       "      <td>76</td>\n",
       "      <td>0.592105</td>\n",
       "      <td>1</td>\n",
       "    </tr>\n",
       "    <tr>\n",
       "      <th>4</th>\n",
       "      <td>Gloria</td>\n",
       "      <td>Zimbabwe</td>\n",
       "      <td>67</td>\n",
       "      <td>78</td>\n",
       "      <td>0.858974</td>\n",
       "      <td>1</td>\n",
       "    </tr>\n",
       "    <tr>\n",
       "      <th>5</th>\n",
       "      <td>David</td>\n",
       "      <td>Malawi</td>\n",
       "      <td>78</td>\n",
       "      <td>80</td>\n",
       "      <td>0.975000</td>\n",
       "      <td>1</td>\n",
       "    </tr>\n",
       "    <tr>\n",
       "      <th>6</th>\n",
       "      <td>Trust</td>\n",
       "      <td>Zimbabwe</td>\n",
       "      <td>89</td>\n",
       "      <td>82</td>\n",
       "      <td>1.085366</td>\n",
       "      <td>1</td>\n",
       "    </tr>\n",
       "    <tr>\n",
       "      <th>7</th>\n",
       "      <td>Elizabeth</td>\n",
       "      <td>Zambia</td>\n",
       "      <td>23</td>\n",
       "      <td>84</td>\n",
       "      <td>0.273810</td>\n",
       "      <td>0</td>\n",
       "    </tr>\n",
       "    <tr>\n",
       "      <th>8</th>\n",
       "      <td>Tidziwanji</td>\n",
       "      <td>Malawi</td>\n",
       "      <td>45</td>\n",
       "      <td>86</td>\n",
       "      <td>0.523256</td>\n",
       "      <td>1</td>\n",
       "    </tr>\n",
       "    <tr>\n",
       "      <th>9</th>\n",
       "      <td>Jizalem</td>\n",
       "      <td>Zimbabwe</td>\n",
       "      <td>34</td>\n",
       "      <td>88</td>\n",
       "      <td>0.386364</td>\n",
       "      <td>0</td>\n",
       "    </tr>\n",
       "    <tr>\n",
       "      <th>10</th>\n",
       "      <td>Charles</td>\n",
       "      <td>Zambia</td>\n",
       "      <td>45</td>\n",
       "      <td>90</td>\n",
       "      <td>0.500000</td>\n",
       "      <td>1</td>\n",
       "    </tr>\n",
       "    <tr>\n",
       "      <th>11</th>\n",
       "      <td>Tifana</td>\n",
       "      <td>Malawi</td>\n",
       "      <td>67</td>\n",
       "      <td>92</td>\n",
       "      <td>0.728261</td>\n",
       "      <td>1</td>\n",
       "    </tr>\n",
       "    <tr>\n",
       "      <th>12</th>\n",
       "      <td>White</td>\n",
       "      <td>Malawi</td>\n",
       "      <td>78</td>\n",
       "      <td>94</td>\n",
       "      <td>0.829787</td>\n",
       "      <td>1</td>\n",
       "    </tr>\n",
       "    <tr>\n",
       "      <th>13</th>\n",
       "      <td>Joe</td>\n",
       "      <td>Malawi</td>\n",
       "      <td>89</td>\n",
       "      <td>96</td>\n",
       "      <td>0.927083</td>\n",
       "      <td>1</td>\n",
       "    </tr>\n",
       "    <tr>\n",
       "      <th>14</th>\n",
       "      <td>Rose</td>\n",
       "      <td>Zambia</td>\n",
       "      <td>89</td>\n",
       "      <td>98</td>\n",
       "      <td>0.908163</td>\n",
       "      <td>1</td>\n",
       "    </tr>\n",
       "    <tr>\n",
       "      <th>15</th>\n",
       "      <td>Dalin</td>\n",
       "      <td>Zimbabwe</td>\n",
       "      <td>56</td>\n",
       "      <td>100</td>\n",
       "      <td>0.560000</td>\n",
       "      <td>1</td>\n",
       "    </tr>\n",
       "    <tr>\n",
       "      <th>16</th>\n",
       "      <td>Tiyanjane</td>\n",
       "      <td>Zambia</td>\n",
       "      <td>78</td>\n",
       "      <td>102</td>\n",
       "      <td>0.764706</td>\n",
       "      <td>1</td>\n",
       "    </tr>\n",
       "    <tr>\n",
       "      <th>17</th>\n",
       "      <td>Saela</td>\n",
       "      <td>Malawi</td>\n",
       "      <td>56</td>\n",
       "      <td>104</td>\n",
       "      <td>0.538462</td>\n",
       "      <td>1</td>\n",
       "    </tr>\n",
       "    <tr>\n",
       "      <th>18</th>\n",
       "      <td>Chodziwadziwa</td>\n",
       "      <td>Malawi</td>\n",
       "      <td>34</td>\n",
       "      <td>106</td>\n",
       "      <td>0.320755</td>\n",
       "      <td>0</td>\n",
       "    </tr>\n",
       "  </tbody>\n",
       "</table>\n",
       "</div>"
      ],
      "text/plain": [
       "             Name   Country  OOP  THE  OOPSHARE  CHE\n",
       "0          Edings    Malawi   12   70  0.171429    0\n",
       "1          Esther    Malawi   23   72  0.319444    0\n",
       "2            Gift    Malawi   34   74  0.459459    1\n",
       "3             Joy    Zambia   45   76  0.592105    1\n",
       "4          Gloria  Zimbabwe   67   78  0.858974    1\n",
       "5           David    Malawi   78   80  0.975000    1\n",
       "6           Trust  Zimbabwe   89   82  1.085366    1\n",
       "7       Elizabeth    Zambia   23   84  0.273810    0\n",
       "8      Tidziwanji    Malawi   45   86  0.523256    1\n",
       "9         Jizalem  Zimbabwe   34   88  0.386364    0\n",
       "10        Charles    Zambia   45   90  0.500000    1\n",
       "11         Tifana    Malawi   67   92  0.728261    1\n",
       "12          White    Malawi   78   94  0.829787    1\n",
       "13            Joe    Malawi   89   96  0.927083    1\n",
       "14           Rose    Zambia   89   98  0.908163    1\n",
       "15          Dalin  Zimbabwe   56  100  0.560000    1\n",
       "16      Tiyanjane    Zambia   78  102  0.764706    1\n",
       "17          Saela    Malawi   56  104  0.538462    1\n",
       "18  Chodziwadziwa    Malawi   34  106  0.320755    0"
      ]
     },
     "execution_count": 27,
     "metadata": {},
     "output_type": "execute_result"
    }
   ],
   "source": [
    "df\n"
   ]
  },
  {
   "cell_type": "code",
   "execution_count": 28,
   "id": "d94f24ff",
   "metadata": {},
   "outputs": [
    {
     "data": {
      "text/plain": [
       "Name           White\n",
       "Country     Zimbabwe\n",
       "OOP               89\n",
       "THE              106\n",
       "OOPSHARE    1.085366\n",
       "CHE                1\n",
       "dtype: object"
      ]
     },
     "execution_count": 28,
     "metadata": {},
     "output_type": "execute_result"
    }
   ],
   "source": [
    "df.max()"
   ]
  },
  {
   "cell_type": "code",
   "execution_count": 29,
   "id": "8014ac99",
   "metadata": {},
   "outputs": [],
   "source": [
    "results=df[\"OOP\"]\n",
    "bins=[12,25,45,65,89]\n",
    "cat=pd.cut(results, bins)"
   ]
  },
  {
   "cell_type": "code",
   "execution_count": 30,
   "id": "a89cfbc9",
   "metadata": {},
   "outputs": [
    {
     "data": {
      "text/plain": [
       "0              NaN\n",
       "1     (12.0, 25.0]\n",
       "2     (25.0, 45.0]\n",
       "3     (25.0, 45.0]\n",
       "4     (65.0, 89.0]\n",
       "5     (65.0, 89.0]\n",
       "6     (65.0, 89.0]\n",
       "7     (12.0, 25.0]\n",
       "8     (25.0, 45.0]\n",
       "9     (25.0, 45.0]\n",
       "10    (25.0, 45.0]\n",
       "11    (65.0, 89.0]\n",
       "12    (65.0, 89.0]\n",
       "13    (65.0, 89.0]\n",
       "14    (65.0, 89.0]\n",
       "15    (45.0, 65.0]\n",
       "16    (65.0, 89.0]\n",
       "17    (45.0, 65.0]\n",
       "18    (25.0, 45.0]\n",
       "Name: OOP, dtype: category\n",
       "Categories (4, interval[int64, right]): [(12, 25] < (25, 45] < (45, 65] < (65, 89]]"
      ]
     },
     "execution_count": 30,
     "metadata": {},
     "output_type": "execute_result"
    }
   ],
   "source": [
    "cat"
   ]
  },
  {
   "cell_type": "code",
   "execution_count": 31,
   "id": "e9b4a5cb",
   "metadata": {},
   "outputs": [
    {
     "data": {
      "text/plain": [
       "OOP\n",
       "(65, 89]    8\n",
       "(25, 45]    6\n",
       "(12, 25]    2\n",
       "(45, 65]    2\n",
       "Name: count, dtype: int64"
      ]
     },
     "execution_count": 31,
     "metadata": {},
     "output_type": "execute_result"
    }
   ],
   "source": [
    "cat.value_counts()"
   ]
  },
  {
   "cell_type": "code",
   "execution_count": 32,
   "id": "05876400",
   "metadata": {},
   "outputs": [
    {
     "data": {
      "text/plain": [
       "Text(0, 0.5, 'Damo sounds')"
      ]
     },
     "execution_count": 32,
     "metadata": {},
     "output_type": "execute_result"
    },
    {
     "data": {
      "image/png": "[encoded data removed]",
      "text/plain": [
       "<Figure size 640x480 with 1 Axes>"
      ]
     },
     "metadata": {},
     "output_type": "display_data"
    }
   ],
   "source": [
    "plt.pie(df[\"Country\"].value_counts(), labels=[\"Malawi\", \"Zambia\", \"Zimbabwe\"])\n",
    "plt.text(1, 1, \"DAMO\")\n",
    "plt.xlabel(\"Damo sounds\")\n",
    "plt.ylabel(\"Damo sounds\")"
   ]
  },
  {
   "cell_type": "code",
   "execution_count": 33,
   "id": "bf2a0319",
   "metadata": {
    "scrolled": true
   },
   "outputs": [
    {
     "data": {
      "text/plain": [
       "<BarContainer object of 19 artists>"
      ]
     },
     "execution_count": 33,
     "metadata": {},
     "output_type": "execute_result"
    },
    {
     "data": {
      "image/png": "[encoded data removed]",
      "text/plain": [
       "<Figure size 640x480 with 1 Axes>"
      ]
     },
     "metadata": {},
     "output_type": "display_data"
    }
   ],
   "source": [
    "plt.plot()\n",
    "plt.xlabel(\"Financial Risk Protection\", fontname=\"poppins\", color=\"red\")\n",
    "plt.ylabel(\"Service Coverage\", fontname=\"poppins\", color=\"red\")\n",
    "plt.text(0,0, \"Origin\", color=\"red\")\n",
    "plt.grid()\n",
    "plt.legend([\"CATA\"])\n",
    "plt.scatter(x=df[\"OOP\"], y=df[\"THE\"])\n",
    "plt.plot(df[\"OOP\"])\n",
    "plt.plot(df[\"THE\"])\n",
    "plt.barh(df[\"Country\"], df[\"THE\"])\n"
   ]
  },
  {
   "cell_type": "code",
   "execution_count": 34,
   "id": "593e6bfa",
   "metadata": {
    "scrolled": true
   },
   "outputs": [],
   "source": [
    "value=df[\"Country\"].value_counts()"
   ]
  },
  {
   "cell_type": "code",
   "execution_count": 35,
   "id": "8e82515f",
   "metadata": {},
   "outputs": [
    {
     "data": {
      "text/plain": [
       "Country\n",
       "Malawi      10\n",
       "Zambia       5\n",
       "Zimbabwe     4\n",
       "Name: count, dtype: int64"
      ]
     },
     "execution_count": 35,
     "metadata": {},
     "output_type": "execute_result"
    }
   ],
   "source": [
    "value"
   ]
  },
  {
   "cell_type": "code",
   "execution_count": 36,
   "id": "14f9e645",
   "metadata": {
    "scrolled": true
   },
   "outputs": [
    {
     "data": {
      "text/plain": [
       "([<matplotlib.patches.Wedge at 0x1da1cb711d0>,\n",
       "  <matplotlib.patches.Wedge at 0x1da1cb71a50>,\n",
       "  <matplotlib.patches.Wedge at 0x1da1cb72850>],\n",
       " [Text(-0.09083734484335805, 1.0962429369358824, 'Malawi'),\n",
       "  Text(-0.6016428377989248, -0.9208832150306883, 'Zambia'),\n",
       "  Text(0.8680546835215183, -0.6756338256898902, 'Zimbabwe')])"
      ]
     },
     "execution_count": 36,
     "metadata": {},
     "output_type": "execute_result"
    },
    {
     "data": {
      "image/png": "[encoded data removed]",
      "text/plain": [
       "<Figure size 640x480 with 1 Axes>"
      ]
     },
     "metadata": {},
     "output_type": "display_data"
    }
   ],
   "source": [
    "value=df[\"Country\"].value_counts()\n",
    "label=value.index\n",
    "sizes=value.values\n",
    "plt.pie(sizes, labels=label)"
   ]
  },
  {
   "cell_type": "code",
   "execution_count": 37,
   "id": "38a49093",
   "metadata": {},
   "outputs": [
    {
     "data": {
      "text/plain": [
       "0      70\n",
       "1      72\n",
       "2      74\n",
       "3      76\n",
       "4      78\n",
       "5      80\n",
       "6      82\n",
       "7      84\n",
       "8      86\n",
       "9      88\n",
       "10     90\n",
       "11     92\n",
       "12     94\n",
       "13     96\n",
       "14     98\n",
       "15    100\n",
       "16    102\n",
       "17    104\n",
       "18    106\n",
       "Name: THE, dtype: int64"
      ]
     },
     "execution_count": 37,
     "metadata": {},
     "output_type": "execute_result"
    }
   ],
   "source": [
    "df[\"THE\"]"
   ]
  },
  {
   "cell_type": "code",
   "execution_count": 42,
   "id": "09e2d25f",
   "metadata": {},
   "outputs": [
    {
     "data": {
      "text/html": [
       "<div>\n",
       "<style scoped>\n",
       "    .dataframe tbody tr th:only-of-type {\n",
       "        vertical-align: middle;\n",
       "    }\n",
       "\n",
       "    .dataframe tbody tr th {\n",
       "        vertical-align: top;\n",
       "    }\n",
       "\n",
       "    .dataframe thead th {\n",
       "        text-align: right;\n",
       "    }\n",
       "</style>\n",
       "<table border=\"1\" class=\"dataframe\">\n",
       "  <thead>\n",
       "    <tr style=\"text-align: right;\">\n",
       "      <th></th>\n",
       "      <th>Name</th>\n",
       "      <th>Country</th>\n",
       "      <th>OOP</th>\n",
       "      <th>THE</th>\n",
       "      <th>OOPSHARE</th>\n",
       "      <th>CHE</th>\n",
       "    </tr>\n",
       "  </thead>\n",
       "  <tbody>\n",
       "    <tr>\n",
       "      <th>0</th>\n",
       "      <td>Edings</td>\n",
       "      <td>Malawi</td>\n",
       "      <td>12</td>\n",
       "      <td>70</td>\n",
       "      <td>0.171429</td>\n",
       "      <td>0</td>\n",
       "    </tr>\n",
       "    <tr>\n",
       "      <th>1</th>\n",
       "      <td>Esther</td>\n",
       "      <td>Malawi</td>\n",
       "      <td>23</td>\n",
       "      <td>72</td>\n",
       "      <td>0.319444</td>\n",
       "      <td>0</td>\n",
       "    </tr>\n",
       "    <tr>\n",
       "      <th>2</th>\n",
       "      <td>Gift</td>\n",
       "      <td>Malawi</td>\n",
       "      <td>34</td>\n",
       "      <td>74</td>\n",
       "      <td>0.459459</td>\n",
       "      <td>1</td>\n",
       "    </tr>\n",
       "    <tr>\n",
       "      <th>3</th>\n",
       "      <td>Joy</td>\n",
       "      <td>Zambia</td>\n",
       "      <td>45</td>\n",
       "      <td>76</td>\n",
       "      <td>0.592105</td>\n",
       "      <td>1</td>\n",
       "    </tr>\n",
       "    <tr>\n",
       "      <th>4</th>\n",
       "      <td>Gloria</td>\n",
       "      <td>Zimbabwe</td>\n",
       "      <td>67</td>\n",
       "      <td>78</td>\n",
       "      <td>0.858974</td>\n",
       "      <td>1</td>\n",
       "    </tr>\n",
       "    <tr>\n",
       "      <th>5</th>\n",
       "      <td>David</td>\n",
       "      <td>Malawi</td>\n",
       "      <td>78</td>\n",
       "      <td>80</td>\n",
       "      <td>0.975000</td>\n",
       "      <td>1</td>\n",
       "    </tr>\n",
       "    <tr>\n",
       "      <th>6</th>\n",
       "      <td>Trust</td>\n",
       "      <td>Zimbabwe</td>\n",
       "      <td>89</td>\n",
       "      <td>82</td>\n",
       "      <td>1.085366</td>\n",
       "      <td>1</td>\n",
       "    </tr>\n",
       "    <tr>\n",
       "      <th>7</th>\n",
       "      <td>Elizabeth</td>\n",
       "      <td>Zambia</td>\n",
       "      <td>23</td>\n",
       "      <td>84</td>\n",
       "      <td>0.273810</td>\n",
       "      <td>0</td>\n",
       "    </tr>\n",
       "    <tr>\n",
       "      <th>8</th>\n",
       "      <td>Tidziwanji</td>\n",
       "      <td>Malawi</td>\n",
       "      <td>45</td>\n",
       "      <td>86</td>\n",
       "      <td>0.523256</td>\n",
       "      <td>1</td>\n",
       "    </tr>\n",
       "    <tr>\n",
       "      <th>9</th>\n",
       "      <td>Jizalem</td>\n",
       "      <td>Zimbabwe</td>\n",
       "      <td>34</td>\n",
       "      <td>88</td>\n",
       "      <td>0.386364</td>\n",
       "      <td>0</td>\n",
       "    </tr>\n",
       "    <tr>\n",
       "      <th>10</th>\n",
       "      <td>Charles</td>\n",
       "      <td>Zambia</td>\n",
       "      <td>45</td>\n",
       "      <td>90</td>\n",
       "      <td>0.500000</td>\n",
       "      <td>1</td>\n",
       "    </tr>\n",
       "    <tr>\n",
       "      <th>11</th>\n",
       "      <td>Tifana</td>\n",
       "      <td>Malawi</td>\n",
       "      <td>67</td>\n",
       "      <td>92</td>\n",
       "      <td>0.728261</td>\n",
       "      <td>1</td>\n",
       "    </tr>\n",
       "    <tr>\n",
       "      <th>12</th>\n",
       "      <td>White</td>\n",
       "      <td>Malawi</td>\n",
       "      <td>78</td>\n",
       "      <td>94</td>\n",
       "      <td>0.829787</td>\n",
       "      <td>1</td>\n",
       "    </tr>\n",
       "    <tr>\n",
       "      <th>13</th>\n",
       "      <td>Joe</td>\n",
       "      <td>Malawi</td>\n",
       "      <td>89</td>\n",
       "      <td>96</td>\n",
       "      <td>0.927083</td>\n",
       "      <td>1</td>\n",
       "    </tr>\n",
       "    <tr>\n",
       "      <th>14</th>\n",
       "      <td>Rose</td>\n",
       "      <td>Zambia</td>\n",
       "      <td>89</td>\n",
       "      <td>98</td>\n",
       "      <td>0.908163</td>\n",
       "      <td>1</td>\n",
       "    </tr>\n",
       "    <tr>\n",
       "      <th>15</th>\n",
       "      <td>Dalin</td>\n",
       "      <td>Zimbabwe</td>\n",
       "      <td>56</td>\n",
       "      <td>100</td>\n",
       "      <td>0.560000</td>\n",
       "      <td>1</td>\n",
       "    </tr>\n",
       "    <tr>\n",
       "      <th>16</th>\n",
       "      <td>Tiyanjane</td>\n",
       "      <td>Zambia</td>\n",
       "      <td>78</td>\n",
       "      <td>102</td>\n",
       "      <td>0.764706</td>\n",
       "      <td>1</td>\n",
       "    </tr>\n",
       "    <tr>\n",
       "      <th>17</th>\n",
       "      <td>Saela</td>\n",
       "      <td>Malawi</td>\n",
       "      <td>56</td>\n",
       "      <td>104</td>\n",
       "      <td>0.538462</td>\n",
       "      <td>1</td>\n",
       "    </tr>\n",
       "    <tr>\n",
       "      <th>18</th>\n",
       "      <td>Chodziwadziwa</td>\n",
       "      <td>Malawi</td>\n",
       "      <td>34</td>\n",
       "      <td>106</td>\n",
       "      <td>0.320755</td>\n",
       "      <td>0</td>\n",
       "    </tr>\n",
       "  </tbody>\n",
       "</table>\n",
       "</div>"
      ],
      "text/plain": [
       "             Name   Country  OOP  THE  OOPSHARE  CHE\n",
       "0          Edings    Malawi   12   70  0.171429    0\n",
       "1          Esther    Malawi   23   72  0.319444    0\n",
       "2            Gift    Malawi   34   74  0.459459    1\n",
       "3             Joy    Zambia   45   76  0.592105    1\n",
       "4          Gloria  Zimbabwe   67   78  0.858974    1\n",
       "5           David    Malawi   78   80  0.975000    1\n",
       "6           Trust  Zimbabwe   89   82  1.085366    1\n",
       "7       Elizabeth    Zambia   23   84  0.273810    0\n",
       "8      Tidziwanji    Malawi   45   86  0.523256    1\n",
       "9         Jizalem  Zimbabwe   34   88  0.386364    0\n",
       "10        Charles    Zambia   45   90  0.500000    1\n",
       "11         Tifana    Malawi   67   92  0.728261    1\n",
       "12          White    Malawi   78   94  0.829787    1\n",
       "13            Joe    Malawi   89   96  0.927083    1\n",
       "14           Rose    Zambia   89   98  0.908163    1\n",
       "15          Dalin  Zimbabwe   56  100  0.560000    1\n",
       "16      Tiyanjane    Zambia   78  102  0.764706    1\n",
       "17          Saela    Malawi   56  104  0.538462    1\n",
       "18  Chodziwadziwa    Malawi   34  106  0.320755    0"
      ]
     },
     "execution_count": 42,
     "metadata": {},
     "output_type": "execute_result"
    }
   ],
   "source": [
    "df"
   ]
  },
  {
   "cell_type": "code",
   "execution_count": 48,
   "id": "eca0da62",
   "metadata": {},
   "outputs": [
    {
     "data": {
      "text/plain": [
       "([<matplotlib.patches.Wedge at 0x1da1d9de450>,\n",
       "  <matplotlib.patches.Wedge at 0x1da1d9df3d0>,\n",
       "  <matplotlib.patches.Wedge at 0x1da1d9e0450>],\n",
       " [Text(-0.09083734484335805, 1.0962429369358824, 'Malawi'),\n",
       "  Text(-0.6016428377989248, -0.9208832150306883, 'Zambia'),\n",
       "  Text(0.8680546835215183, -0.6756338256898902, 'Zimbabwe')])"
      ]
     },
     "execution_count": 48,
     "metadata": {},
     "output_type": "execute_result"
    },
    {
     "data": {
      "image/png": "[encoded data removed]",
      "text/plain": [
       "<Figure size 640x480 with 1 Axes>"
      ]
     },
     "metadata": {},
     "output_type": "display_data"
    }
   ],
   "source": [
    "value=df[\"Country\"].value_counts()\n",
    "sizes=value.values\n",
    "label=value.index\n",
    "plt.pie(sizes, labels=label)"
   ]
  },
  {
   "cell_type": "code",
   "execution_count": 44,
   "id": "2a91adec",
   "metadata": {},
   "outputs": [
    {
     "data": {
      "text/plain": [
       "Country\n",
       "Malawi      10\n",
       "Zambia       5\n",
       "Zimbabwe     4\n",
       "Name: count, dtype: int64"
      ]
     },
     "execution_count": 44,
     "metadata": {},
     "output_type": "execute_result"
    }
   ],
   "source": [
    "value"
   ]
  },
  {
   "cell_type": "code",
   "execution_count": 50,
   "id": "fb6567c0",
   "metadata": {},
   "outputs": [
    {
     "data": {
      "text/plain": [
       "([<matplotlib.patches.Wedge at 0x1da1d841490>,\n",
       "  <matplotlib.patches.Wedge at 0x1da1d0bc850>,\n",
       "  <matplotlib.patches.Wedge at 0x1da1d846cd0>],\n",
       " [Text(-0.09083734484335805, 1.0962429369358824, 'MW'),\n",
       "  Text(-0.6016428377989248, -0.9208832150306883, 'Z'),\n",
       "  Text(0.8680546835215183, -0.6756338256898902, 'ZIM')])"
      ]
     },
     "execution_count": 50,
     "metadata": {},
     "output_type": "execute_result"
    },
    {
     "data": {
      "image/png": "[encoded data removed]",
      "text/plain": [
       "<Figure size 640x480 with 1 Axes>"
      ]
     },
     "metadata": {},
     "output_type": "display_data"
    }
   ],
   "source": [
    "value=df[\"Country\"].value_counts()\n",
    "sizes=value.values\n",
    "label=[\"MW\",  \"Z\",\"ZIM\"]\n",
    "plt.pie(sizes, labels=label)"
   ]
  },
  {
   "cell_type": "code",
   "execution_count": null,
   "id": "b52af87b",
   "metadata": {},
   "outputs": [],
   "source": []
  }
 ],
 "metadata": {
  "kernelspec": {
   "display_name": "Python 3 (ipykernel)",
   "language": "python",
   "name": "python3"
  },
  "language_info": {
   "codemirror_mode": {
    "name": "ipython",
    "version": 3
   },
   "file_extension": ".py",
   "mimetype": "text/x-python",
   "name": "python",
   "nbconvert_exporter": "python",
   "pygments_lexer": "ipython3",
   "version": "3.11.5"
  }
 },
 "nbformat": 4,
 "nbformat_minor": 5
}
