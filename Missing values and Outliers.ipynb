{
 "cells": [
  {
   "cell_type": "markdown",
   "id": "6f9f2f9f",
   "metadata": {},
   "source": [
    "# DATA CLEANING FOR MISSING AND WRONG DATA(OUTLIERS)"
   ]
  },
  {
   "cell_type": "code",
   "execution_count": 2,
   "id": "318cbdab",
   "metadata": {},
   "outputs": [],
   "source": [
    "import pandas as pd\n",
    "df=pd.read_excel(\"dataCleaning.xlsx\")"
   ]
  },
  {
   "cell_type": "code",
   "execution_count": 3,
   "id": "57b85d5c",
   "metadata": {},
   "outputs": [
    {
     "data": {
      "text/html": [
       "<div>\n",
       "<style scoped>\n",
       "    .dataframe tbody tr th:only-of-type {\n",
       "        vertical-align: middle;\n",
       "    }\n",
       "\n",
       "    .dataframe tbody tr th {\n",
       "        vertical-align: top;\n",
       "    }\n",
       "\n",
       "    .dataframe thead th {\n",
       "        text-align: right;\n",
       "    }\n",
       "</style>\n",
       "<table border=\"1\" class=\"dataframe\">\n",
       "  <thead>\n",
       "    <tr style=\"text-align: right;\">\n",
       "      <th></th>\n",
       "      <th>ID</th>\n",
       "      <th>OOP</th>\n",
       "      <th>THE</th>\n",
       "      <th>OOPSHARE</th>\n",
       "      <th>CHE</th>\n",
       "    </tr>\n",
       "  </thead>\n",
       "  <tbody>\n",
       "    <tr>\n",
       "      <th>0</th>\n",
       "      <td>1</td>\n",
       "      <td>12.0</td>\n",
       "      <td>70.0</td>\n",
       "      <td>0.171429</td>\n",
       "      <td>0.0</td>\n",
       "    </tr>\n",
       "    <tr>\n",
       "      <th>1</th>\n",
       "      <td>2</td>\n",
       "      <td>23.0</td>\n",
       "      <td>72.0</td>\n",
       "      <td>NaN</td>\n",
       "      <td>0.0</td>\n",
       "    </tr>\n",
       "    <tr>\n",
       "      <th>2</th>\n",
       "      <td>3</td>\n",
       "      <td>NaN</td>\n",
       "      <td>74.0</td>\n",
       "      <td>0.459459</td>\n",
       "      <td>1.0</td>\n",
       "    </tr>\n",
       "    <tr>\n",
       "      <th>3</th>\n",
       "      <td>4</td>\n",
       "      <td>45.0</td>\n",
       "      <td>76.0</td>\n",
       "      <td>0.592105</td>\n",
       "      <td>NaN</td>\n",
       "    </tr>\n",
       "    <tr>\n",
       "      <th>4</th>\n",
       "      <td>5</td>\n",
       "      <td>NaN</td>\n",
       "      <td>78.0</td>\n",
       "      <td>0.858974</td>\n",
       "      <td>1.0</td>\n",
       "    </tr>\n",
       "    <tr>\n",
       "      <th>5</th>\n",
       "      <td>6</td>\n",
       "      <td>78.0</td>\n",
       "      <td>80.0</td>\n",
       "      <td>0.975000</td>\n",
       "      <td>1.0</td>\n",
       "    </tr>\n",
       "    <tr>\n",
       "      <th>6</th>\n",
       "      <td>7</td>\n",
       "      <td>89.0</td>\n",
       "      <td>82.0</td>\n",
       "      <td>1.085366</td>\n",
       "      <td>1.0</td>\n",
       "    </tr>\n",
       "    <tr>\n",
       "      <th>7</th>\n",
       "      <td>8</td>\n",
       "      <td>23.0</td>\n",
       "      <td>84.0</td>\n",
       "      <td>NaN</td>\n",
       "      <td>0.0</td>\n",
       "    </tr>\n",
       "    <tr>\n",
       "      <th>8</th>\n",
       "      <td>9</td>\n",
       "      <td>NaN</td>\n",
       "      <td>86.0</td>\n",
       "      <td>0.523256</td>\n",
       "      <td>1.0</td>\n",
       "    </tr>\n",
       "    <tr>\n",
       "      <th>9</th>\n",
       "      <td>10</td>\n",
       "      <td>34.0</td>\n",
       "      <td>88.0</td>\n",
       "      <td>0.386364</td>\n",
       "      <td>0.0</td>\n",
       "    </tr>\n",
       "    <tr>\n",
       "      <th>10</th>\n",
       "      <td>11</td>\n",
       "      <td>45.0</td>\n",
       "      <td>90.0</td>\n",
       "      <td>0.500000</td>\n",
       "      <td>1.0</td>\n",
       "    </tr>\n",
       "    <tr>\n",
       "      <th>11</th>\n",
       "      <td>12</td>\n",
       "      <td>67.0</td>\n",
       "      <td>92.0</td>\n",
       "      <td>0.728261</td>\n",
       "      <td>1.0</td>\n",
       "    </tr>\n",
       "    <tr>\n",
       "      <th>12</th>\n",
       "      <td>13</td>\n",
       "      <td>78.0</td>\n",
       "      <td>NaN</td>\n",
       "      <td>0.829787</td>\n",
       "      <td>1.0</td>\n",
       "    </tr>\n",
       "    <tr>\n",
       "      <th>13</th>\n",
       "      <td>14</td>\n",
       "      <td>89.0</td>\n",
       "      <td>96.0</td>\n",
       "      <td>0.927083</td>\n",
       "      <td>NaN</td>\n",
       "    </tr>\n",
       "    <tr>\n",
       "      <th>14</th>\n",
       "      <td>15</td>\n",
       "      <td>89.0</td>\n",
       "      <td>98.0</td>\n",
       "      <td>0.908163</td>\n",
       "      <td>1.0</td>\n",
       "    </tr>\n",
       "    <tr>\n",
       "      <th>15</th>\n",
       "      <td>16</td>\n",
       "      <td>56.0</td>\n",
       "      <td>100.0</td>\n",
       "      <td>0.560000</td>\n",
       "      <td>1.0</td>\n",
       "    </tr>\n",
       "    <tr>\n",
       "      <th>16</th>\n",
       "      <td>17</td>\n",
       "      <td>78.0</td>\n",
       "      <td>102.0</td>\n",
       "      <td>0.764706</td>\n",
       "      <td>1.0</td>\n",
       "    </tr>\n",
       "    <tr>\n",
       "      <th>17</th>\n",
       "      <td>18</td>\n",
       "      <td>NaN</td>\n",
       "      <td>104.0</td>\n",
       "      <td>NaN</td>\n",
       "      <td>1.0</td>\n",
       "    </tr>\n",
       "    <tr>\n",
       "      <th>18</th>\n",
       "      <td>19</td>\n",
       "      <td>34.0</td>\n",
       "      <td>106.0</td>\n",
       "      <td>0.320755</td>\n",
       "      <td>0.0</td>\n",
       "    </tr>\n",
       "  </tbody>\n",
       "</table>\n",
       "</div>"
      ],
      "text/plain": [
       "    ID   OOP    THE  OOPSHARE  CHE\n",
       "0    1  12.0   70.0  0.171429  0.0\n",
       "1    2  23.0   72.0       NaN  0.0\n",
       "2    3   NaN   74.0  0.459459  1.0\n",
       "3    4  45.0   76.0  0.592105  NaN\n",
       "4    5   NaN   78.0  0.858974  1.0\n",
       "5    6  78.0   80.0  0.975000  1.0\n",
       "6    7  89.0   82.0  1.085366  1.0\n",
       "7    8  23.0   84.0       NaN  0.0\n",
       "8    9   NaN   86.0  0.523256  1.0\n",
       "9   10  34.0   88.0  0.386364  0.0\n",
       "10  11  45.0   90.0  0.500000  1.0\n",
       "11  12  67.0   92.0  0.728261  1.0\n",
       "12  13  78.0    NaN  0.829787  1.0\n",
       "13  14  89.0   96.0  0.927083  NaN\n",
       "14  15  89.0   98.0  0.908163  1.0\n",
       "15  16  56.0  100.0  0.560000  1.0\n",
       "16  17  78.0  102.0  0.764706  1.0\n",
       "17  18   NaN  104.0       NaN  1.0\n",
       "18  19  34.0  106.0  0.320755  0.0"
      ]
     },
     "execution_count": 3,
     "metadata": {},
     "output_type": "execute_result"
    }
   ],
   "source": [
    "df"
   ]
  },
  {
   "cell_type": "code",
   "execution_count": 4,
   "id": "9782bcd8",
   "metadata": {},
   "outputs": [
    {
     "data": {
      "text/html": [
       "<div>\n",
       "<style scoped>\n",
       "    .dataframe tbody tr th:only-of-type {\n",
       "        vertical-align: middle;\n",
       "    }\n",
       "\n",
       "    .dataframe tbody tr th {\n",
       "        vertical-align: top;\n",
       "    }\n",
       "\n",
       "    .dataframe thead th {\n",
       "        text-align: right;\n",
       "    }\n",
       "</style>\n",
       "<table border=\"1\" class=\"dataframe\">\n",
       "  <thead>\n",
       "    <tr style=\"text-align: right;\">\n",
       "      <th></th>\n",
       "      <th>ID</th>\n",
       "      <th>OOP</th>\n",
       "      <th>THE</th>\n",
       "      <th>OOPSHARE</th>\n",
       "      <th>CHE</th>\n",
       "    </tr>\n",
       "  </thead>\n",
       "  <tbody>\n",
       "    <tr>\n",
       "      <th>0</th>\n",
       "      <td>1</td>\n",
       "      <td>12.0</td>\n",
       "      <td>70.0</td>\n",
       "      <td>0.171429</td>\n",
       "      <td>0.0</td>\n",
       "    </tr>\n",
       "    <tr>\n",
       "      <th>1</th>\n",
       "      <td>2</td>\n",
       "      <td>23.0</td>\n",
       "      <td>72.0</td>\n",
       "      <td>NaN</td>\n",
       "      <td>0.0</td>\n",
       "    </tr>\n",
       "    <tr>\n",
       "      <th>2</th>\n",
       "      <td>3</td>\n",
       "      <td>NaN</td>\n",
       "      <td>74.0</td>\n",
       "      <td>0.459459</td>\n",
       "      <td>1.0</td>\n",
       "    </tr>\n",
       "    <tr>\n",
       "      <th>3</th>\n",
       "      <td>4</td>\n",
       "      <td>45.0</td>\n",
       "      <td>76.0</td>\n",
       "      <td>0.592105</td>\n",
       "      <td>NaN</td>\n",
       "    </tr>\n",
       "    <tr>\n",
       "      <th>4</th>\n",
       "      <td>5</td>\n",
       "      <td>NaN</td>\n",
       "      <td>78.0</td>\n",
       "      <td>0.858974</td>\n",
       "      <td>1.0</td>\n",
       "    </tr>\n",
       "    <tr>\n",
       "      <th>5</th>\n",
       "      <td>6</td>\n",
       "      <td>78.0</td>\n",
       "      <td>80.0</td>\n",
       "      <td>0.975000</td>\n",
       "      <td>1.0</td>\n",
       "    </tr>\n",
       "    <tr>\n",
       "      <th>6</th>\n",
       "      <td>7</td>\n",
       "      <td>89.0</td>\n",
       "      <td>82.0</td>\n",
       "      <td>1.085366</td>\n",
       "      <td>1.0</td>\n",
       "    </tr>\n",
       "    <tr>\n",
       "      <th>7</th>\n",
       "      <td>8</td>\n",
       "      <td>23.0</td>\n",
       "      <td>84.0</td>\n",
       "      <td>NaN</td>\n",
       "      <td>0.0</td>\n",
       "    </tr>\n",
       "    <tr>\n",
       "      <th>8</th>\n",
       "      <td>9</td>\n",
       "      <td>NaN</td>\n",
       "      <td>86.0</td>\n",
       "      <td>0.523256</td>\n",
       "      <td>1.0</td>\n",
       "    </tr>\n",
       "    <tr>\n",
       "      <th>9</th>\n",
       "      <td>10</td>\n",
       "      <td>34.0</td>\n",
       "      <td>88.0</td>\n",
       "      <td>0.386364</td>\n",
       "      <td>0.0</td>\n",
       "    </tr>\n",
       "    <tr>\n",
       "      <th>10</th>\n",
       "      <td>11</td>\n",
       "      <td>45.0</td>\n",
       "      <td>90.0</td>\n",
       "      <td>0.500000</td>\n",
       "      <td>1.0</td>\n",
       "    </tr>\n",
       "    <tr>\n",
       "      <th>11</th>\n",
       "      <td>12</td>\n",
       "      <td>67.0</td>\n",
       "      <td>92.0</td>\n",
       "      <td>0.728261</td>\n",
       "      <td>1.0</td>\n",
       "    </tr>\n",
       "    <tr>\n",
       "      <th>12</th>\n",
       "      <td>13</td>\n",
       "      <td>78.0</td>\n",
       "      <td>NaN</td>\n",
       "      <td>0.829787</td>\n",
       "      <td>1.0</td>\n",
       "    </tr>\n",
       "    <tr>\n",
       "      <th>13</th>\n",
       "      <td>14</td>\n",
       "      <td>89.0</td>\n",
       "      <td>96.0</td>\n",
       "      <td>0.927083</td>\n",
       "      <td>NaN</td>\n",
       "    </tr>\n",
       "    <tr>\n",
       "      <th>14</th>\n",
       "      <td>15</td>\n",
       "      <td>89.0</td>\n",
       "      <td>98.0</td>\n",
       "      <td>0.908163</td>\n",
       "      <td>1.0</td>\n",
       "    </tr>\n",
       "    <tr>\n",
       "      <th>15</th>\n",
       "      <td>16</td>\n",
       "      <td>56.0</td>\n",
       "      <td>100.0</td>\n",
       "      <td>0.560000</td>\n",
       "      <td>1.0</td>\n",
       "    </tr>\n",
       "    <tr>\n",
       "      <th>16</th>\n",
       "      <td>17</td>\n",
       "      <td>78.0</td>\n",
       "      <td>102.0</td>\n",
       "      <td>0.764706</td>\n",
       "      <td>1.0</td>\n",
       "    </tr>\n",
       "    <tr>\n",
       "      <th>17</th>\n",
       "      <td>18</td>\n",
       "      <td>NaN</td>\n",
       "      <td>104.0</td>\n",
       "      <td>NaN</td>\n",
       "      <td>1.0</td>\n",
       "    </tr>\n",
       "    <tr>\n",
       "      <th>18</th>\n",
       "      <td>19</td>\n",
       "      <td>34.0</td>\n",
       "      <td>106.0</td>\n",
       "      <td>0.320755</td>\n",
       "      <td>0.0</td>\n",
       "    </tr>\n",
       "  </tbody>\n",
       "</table>\n",
       "</div>"
      ],
      "text/plain": [
       "    ID   OOP    THE  OOPSHARE  CHE\n",
       "0    1  12.0   70.0  0.171429  0.0\n",
       "1    2  23.0   72.0       NaN  0.0\n",
       "2    3   NaN   74.0  0.459459  1.0\n",
       "3    4  45.0   76.0  0.592105  NaN\n",
       "4    5   NaN   78.0  0.858974  1.0\n",
       "5    6  78.0   80.0  0.975000  1.0\n",
       "6    7  89.0   82.0  1.085366  1.0\n",
       "7    8  23.0   84.0       NaN  0.0\n",
       "8    9   NaN   86.0  0.523256  1.0\n",
       "9   10  34.0   88.0  0.386364  0.0\n",
       "10  11  45.0   90.0  0.500000  1.0\n",
       "11  12  67.0   92.0  0.728261  1.0\n",
       "12  13  78.0    NaN  0.829787  1.0\n",
       "13  14  89.0   96.0  0.927083  NaN\n",
       "14  15  89.0   98.0  0.908163  1.0\n",
       "15  16  56.0  100.0  0.560000  1.0\n",
       "16  17  78.0  102.0  0.764706  1.0\n",
       "17  18   NaN  104.0       NaN  1.0\n",
       "18  19  34.0  106.0  0.320755  0.0"
      ]
     },
     "execution_count": 4,
     "metadata": {},
     "output_type": "execute_result"
    }
   ],
   "source": [
    "df"
   ]
  },
  {
   "cell_type": "code",
   "execution_count": 5,
   "id": "6a13d7d9",
   "metadata": {},
   "outputs": [
    {
     "ename": "KeyError",
     "evalue": "['Nationality']",
     "output_type": "error",
     "traceback": [
      "\u001b[1;31m---------------------------------------------------------------------------\u001b[0m",
      "\u001b[1;31mKeyError\u001b[0m                                  Traceback (most recent call last)",
      "\u001b[1;32m~\\AppData\\Local\\Temp\\ipykernel_1828\\1014939073.py\u001b[0m in \u001b[0;36m?\u001b[1;34m()\u001b[0m\n\u001b[1;32m----> 1\u001b[1;33m \u001b[0mdf\u001b[0m\u001b[1;33m.\u001b[0m\u001b[0mdropna\u001b[0m\u001b[1;33m(\u001b[0m\u001b[0msubset\u001b[0m\u001b[1;33m=\u001b[0m\u001b[1;33m[\u001b[0m\u001b[1;34m'Nationality'\u001b[0m\u001b[1;33m]\u001b[0m\u001b[1;33m)\u001b[0m\u001b[1;33m\u001b[0m\u001b[1;33m\u001b[0m\u001b[0m\n\u001b[0m",
      "\u001b[1;32m~\\anaconda3\\Lib\\site-packages\\pandas\\core\\frame.py\u001b[0m in \u001b[0;36m?\u001b[1;34m(self, axis, how, thresh, subset, inplace, ignore_index)\u001b[0m\n\u001b[0;32m   6403\u001b[0m             \u001b[0max\u001b[0m \u001b[1;33m=\u001b[0m \u001b[0mself\u001b[0m\u001b[1;33m.\u001b[0m\u001b[0m_get_axis\u001b[0m\u001b[1;33m(\u001b[0m\u001b[0magg_axis\u001b[0m\u001b[1;33m)\u001b[0m\u001b[1;33m\u001b[0m\u001b[1;33m\u001b[0m\u001b[0m\n\u001b[0;32m   6404\u001b[0m             \u001b[0mindices\u001b[0m \u001b[1;33m=\u001b[0m \u001b[0max\u001b[0m\u001b[1;33m.\u001b[0m\u001b[0mget_indexer_for\u001b[0m\u001b[1;33m(\u001b[0m\u001b[0msubset\u001b[0m\u001b[1;33m)\u001b[0m\u001b[1;33m\u001b[0m\u001b[1;33m\u001b[0m\u001b[0m\n\u001b[0;32m   6405\u001b[0m             \u001b[0mcheck\u001b[0m \u001b[1;33m=\u001b[0m \u001b[0mindices\u001b[0m \u001b[1;33m==\u001b[0m \u001b[1;33m-\u001b[0m\u001b[1;36m1\u001b[0m\u001b[1;33m\u001b[0m\u001b[1;33m\u001b[0m\u001b[0m\n\u001b[0;32m   6406\u001b[0m             \u001b[1;32mif\u001b[0m \u001b[0mcheck\u001b[0m\u001b[1;33m.\u001b[0m\u001b[0many\u001b[0m\u001b[1;33m(\u001b[0m\u001b[1;33m)\u001b[0m\u001b[1;33m:\u001b[0m\u001b[1;33m\u001b[0m\u001b[1;33m\u001b[0m\u001b[0m\n\u001b[1;32m-> 6407\u001b[1;33m                 \u001b[1;32mraise\u001b[0m \u001b[0mKeyError\u001b[0m\u001b[1;33m(\u001b[0m\u001b[0mnp\u001b[0m\u001b[1;33m.\u001b[0m\u001b[0marray\u001b[0m\u001b[1;33m(\u001b[0m\u001b[0msubset\u001b[0m\u001b[1;33m)\u001b[0m\u001b[1;33m[\u001b[0m\u001b[0mcheck\u001b[0m\u001b[1;33m]\u001b[0m\u001b[1;33m.\u001b[0m\u001b[0mtolist\u001b[0m\u001b[1;33m(\u001b[0m\u001b[1;33m)\u001b[0m\u001b[1;33m)\u001b[0m\u001b[1;33m\u001b[0m\u001b[1;33m\u001b[0m\u001b[0m\n\u001b[0m\u001b[0;32m   6408\u001b[0m             \u001b[0magg_obj\u001b[0m \u001b[1;33m=\u001b[0m \u001b[0mself\u001b[0m\u001b[1;33m.\u001b[0m\u001b[0mtake\u001b[0m\u001b[1;33m(\u001b[0m\u001b[0mindices\u001b[0m\u001b[1;33m,\u001b[0m \u001b[0maxis\u001b[0m\u001b[1;33m=\u001b[0m\u001b[0magg_axis\u001b[0m\u001b[1;33m)\u001b[0m\u001b[1;33m\u001b[0m\u001b[1;33m\u001b[0m\u001b[0m\n\u001b[0;32m   6409\u001b[0m \u001b[1;33m\u001b[0m\u001b[0m\n\u001b[0;32m   6410\u001b[0m         \u001b[1;32mif\u001b[0m \u001b[0mthresh\u001b[0m \u001b[1;32mis\u001b[0m \u001b[1;32mnot\u001b[0m \u001b[0mno_default\u001b[0m\u001b[1;33m:\u001b[0m\u001b[1;33m\u001b[0m\u001b[1;33m\u001b[0m\u001b[0m\n",
      "\u001b[1;31mKeyError\u001b[0m: ['Nationality']"
     ]
    }
   ],
   "source": [
    "df.dropna(subset=['Nationality'])"
   ]
  },
  {
   "cell_type": "code",
   "execution_count": null,
   "id": "a3ee9797",
   "metadata": {},
   "outputs": [],
   "source": [
    "# x = df[\"Height\"].mean()\n",
    "# df[\"Height\"].fillna(x, inplace=True)"
   ]
  },
  {
   "cell_type": "code",
   "execution_count": null,
   "id": "1584dd5b",
   "metadata": {},
   "outputs": [],
   "source": [
    "df"
   ]
  },
  {
   "cell_type": "code",
   "execution_count": null,
   "id": "da400cf9",
   "metadata": {},
   "outputs": [],
   "source": [
    "# for x in df.index:\n",
    "#     if df.loc[x, \"Height\"]>85:\n",
    "#         df.loc[x, \"Height\"]=116"
   ]
  },
  {
   "cell_type": "code",
   "execution_count": null,
   "id": "cf70a9c3",
   "metadata": {},
   "outputs": [],
   "source": []
  },
  {
   "cell_type": "code",
   "execution_count": null,
   "id": "4f9dfa70",
   "metadata": {},
   "outputs": [],
   "source": [
    "# for x in df.index:\n",
    "#     if df.loc[x, \"Height\"]>100:\n",
    "#         df.drop(x, inplace = True)"
   ]
  },
  {
   "cell_type": "code",
   "execution_count": null,
   "id": "3c0e6852",
   "metadata": {},
   "outputs": [],
   "source": [
    "df"
   ]
  },
  {
   "cell_type": "code",
   "execution_count": null,
   "id": "63524897",
   "metadata": {},
   "outputs": [],
   "source": [
    "df.info()"
   ]
  },
  {
   "cell_type": "code",
   "execution_count": null,
   "id": "5711cf85",
   "metadata": {},
   "outputs": [],
   "source": []
  },
  {
   "cell_type": "code",
   "execution_count": null,
   "id": "162815c4",
   "metadata": {},
   "outputs": [],
   "source": [
    "import pandas as pd\n",
    "df1=pd.read_excel(\"dataCleaning.xlsx\")"
   ]
  },
  {
   "cell_type": "code",
   "execution_count": null,
   "id": "d1ecbf26",
   "metadata": {},
   "outputs": [],
   "source": [
    "df1.head()"
   ]
  },
  {
   "cell_type": "code",
   "execution_count": null,
   "id": "1799111d",
   "metadata": {},
   "outputs": [],
   "source": [
    "df1.dropna(subset=[\"Nationality\"], inplace = True)"
   ]
  },
  {
   "cell_type": "code",
   "execution_count": null,
   "id": "0cc8c54b",
   "metadata": {},
   "outputs": [],
   "source": [
    "df1"
   ]
  },
  {
   "cell_type": "code",
   "execution_count": null,
   "id": "e132e21a",
   "metadata": {},
   "outputs": [],
   "source": [
    "x = df1[\"Height\"].mean()"
   ]
  },
  {
   "cell_type": "code",
   "execution_count": null,
   "id": "0bc1ca50",
   "metadata": {},
   "outputs": [],
   "source": [
    "df1[\"Height\"].fillna(x, inplace = True)"
   ]
  },
  {
   "cell_type": "code",
   "execution_count": null,
   "id": "e756456d",
   "metadata": {
    "scrolled": false
   },
   "outputs": [],
   "source": [
    "df1"
   ]
  },
  {
   "cell_type": "code",
   "execution_count": null,
   "id": "85aaef7e",
   "metadata": {},
   "outputs": [],
   "source": [
    "df1"
   ]
  },
  {
   "cell_type": "code",
   "execution_count": null,
   "id": "3c63a66d",
   "metadata": {},
   "outputs": [],
   "source": [
    "df1.dropna(inplace = True)"
   ]
  },
  {
   "cell_type": "code",
   "execution_count": null,
   "id": "00072ceb",
   "metadata": {},
   "outputs": [],
   "source": [
    "df1.loc[2, \"Age\"]= 50"
   ]
  },
  {
   "cell_type": "code",
   "execution_count": null,
   "id": "7c80831c",
   "metadata": {},
   "outputs": [],
   "source": [
    "df1"
   ]
  },
  {
   "cell_type": "code",
   "execution_count": null,
   "id": "461684e2",
   "metadata": {},
   "outputs": [],
   "source": [
    "import pandas as pd\n",
    "df3 = pd.read_excel(\"dataCleaning.xlsx\")"
   ]
  },
  {
   "cell_type": "code",
   "execution_count": null,
   "id": "e3a60225",
   "metadata": {},
   "outputs": [],
   "source": [
    "df3"
   ]
  },
  {
   "cell_type": "code",
   "execution_count": null,
   "id": "88f27efd",
   "metadata": {},
   "outputs": [],
   "source": [
    "df3.dropna(subset=[\"Nationality\"])"
   ]
  },
  {
   "cell_type": "code",
   "execution_count": null,
   "id": "946f3546",
   "metadata": {},
   "outputs": [],
   "source": [
    "df3[\"Height\"].fillna(df3[\"Height\"].mean(), inplace=True)"
   ]
  },
  {
   "cell_type": "code",
   "execution_count": null,
   "id": "663516b5",
   "metadata": {},
   "outputs": [],
   "source": [
    "df3"
   ]
  },
  {
   "cell_type": "code",
   "execution_count": null,
   "id": "833a3ffa",
   "metadata": {},
   "outputs": [],
   "source": [
    "df3.loc[3, \"Nationality\"] = \"Malawi\""
   ]
  },
  {
   "cell_type": "code",
   "execution_count": null,
   "id": "06f2ea25",
   "metadata": {},
   "outputs": [],
   "source": [
    "df3"
   ]
  },
  {
   "cell_type": "code",
   "execution_count": null,
   "id": "aba47d5f",
   "metadata": {},
   "outputs": [],
   "source": [
    "for x in df3.index:\n",
    "    if df3.loc[x, \"Height\"]>100:\n",
    "        df3.loc[x,\"Height\"] = 100"
   ]
  },
  {
   "cell_type": "code",
   "execution_count": null,
   "id": "5ade5498",
   "metadata": {},
   "outputs": [],
   "source": [
    "df3"
   ]
  },
  {
   "cell_type": "code",
   "execution_count": null,
   "id": "1602d0de",
   "metadata": {},
   "outputs": [],
   "source": [
    "df3.dropna(inplace = True)"
   ]
  },
  {
   "cell_type": "markdown",
   "id": "2c1c2e40",
   "metadata": {},
   "source": [
    "### "
   ]
  },
  {
   "cell_type": "code",
   "execution_count": null,
   "id": "e99fe7d5",
   "metadata": {},
   "outputs": [],
   "source": [
    "df3"
   ]
  },
  {
   "cell_type": "code",
   "execution_count": null,
   "id": "497ba37a",
   "metadata": {},
   "outputs": [],
   "source": [
    "# Check every index and if the value for height in a particular row is less than 90(thus the conidtion), the instrucion is that you drop that row\n",
    "for x in df3.index:\n",
    "    if df3.loc[x, \"Height\"]<90:\n",
    "        df3.drop(x, inplace = True)"
   ]
  },
  {
   "cell_type": "code",
   "execution_count": null,
   "id": "05599e53",
   "metadata": {},
   "outputs": [],
   "source": [
    "df3"
   ]
  },
  {
   "cell_type": "code",
   "execution_count": null,
   "id": "eab178fd",
   "metadata": {},
   "outputs": [],
   "source": [
    "if df3.loc[4, \"Height\"] != 5:\n",
    "    df3.loc[4, \"Height\"] =60\n",
    "    "
   ]
  },
  {
   "cell_type": "code",
   "execution_count": null,
   "id": "2caf4ec7",
   "metadata": {},
   "outputs": [],
   "source": [
    "import pandas as pd\n",
    "df4=pd.read_excel(\"dataCleaning.xlsx\")"
   ]
  },
  {
   "cell_type": "code",
   "execution_count": null,
   "id": "d0781502",
   "metadata": {},
   "outputs": [],
   "source": [
    "df4"
   ]
  },
  {
   "cell_type": "code",
   "execution_count": null,
   "id": "82672c7f",
   "metadata": {},
   "outputs": [],
   "source": [
    "# def imputation():\n",
    "#     for x in df4.index:\n",
    "#         if df4.loc[x, \"Height\"]<100:\n",
    "#             df4.loc[x,\"Height\"]= \"Tall\"\n",
    "# imputation()"
   ]
  },
  {
   "cell_type": "code",
   "execution_count": null,
   "id": "d8d3fb22",
   "metadata": {},
   "outputs": [],
   "source": [
    "df5=df[[\"Nationality\", \"Height\"]]"
   ]
  },
  {
   "cell_type": "code",
   "execution_count": null,
   "id": "7cfba13a",
   "metadata": {},
   "outputs": [],
   "source": [
    "df5"
   ]
  },
  {
   "cell_type": "code",
   "execution_count": null,
   "id": "42f5eb46",
   "metadata": {},
   "outputs": [],
   "source": [
    "df5[\"Nationality\"].fillna(0)"
   ]
  },
  {
   "cell_type": "code",
   "execution_count": null,
   "id": "1a2ad047",
   "metadata": {},
   "outputs": [],
   "source": [
    "for x in df5.index:\n",
    "    if df5.loc[x, \"Nationality\"]==0:\n",
    "        df5.drop(x, inplace=True)"
   ]
  },
  {
   "cell_type": "code",
   "execution_count": null,
   "id": "507d4ba8",
   "metadata": {},
   "outputs": [],
   "source": [
    "df5"
   ]
  },
  {
   "cell_type": "code",
   "execution_count": null,
   "id": "50975a13",
   "metadata": {},
   "outputs": [],
   "source": [
    "import pandas as pd\n",
    "df6 = pd.read_excel(\"dataCleaning.xlsx\")"
   ]
  },
  {
   "cell_type": "code",
   "execution_count": null,
   "id": "10826e8b",
   "metadata": {},
   "outputs": [],
   "source": [
    "df6\n"
   ]
  },
  {
   "cell_type": "code",
   "execution_count": null,
   "id": "11d373f5",
   "metadata": {},
   "outputs": [],
   "source": [
    "for x in df6.index:\n",
    "    if df6.loc[x, \"Height\"]<100:\n",
    "        df6.fillna(300, inplace = True)"
   ]
  },
  {
   "cell_type": "code",
   "execution_count": null,
   "id": "fbda957e",
   "metadata": {
    "scrolled": false
   },
   "outputs": [],
   "source": [
    "df6"
   ]
  },
  {
   "cell_type": "code",
   "execution_count": null,
   "id": "572680fa",
   "metadata": {},
   "outputs": [],
   "source": [
    "df6.loc[3, \"Nationality\"]=\"Swedish\""
   ]
  },
  {
   "cell_type": "code",
   "execution_count": null,
   "id": "80679f16",
   "metadata": {},
   "outputs": [],
   "source": [
    "x =df6[[\"Position\", \"Height\"]]"
   ]
  },
  {
   "cell_type": "code",
   "execution_count": null,
   "id": "4747979e",
   "metadata": {},
   "outputs": [],
   "source": [
    "x.loc[4, \"Position\"]=5"
   ]
  },
  {
   "cell_type": "code",
   "execution_count": null,
   "id": "657882ae",
   "metadata": {},
   "outputs": [],
   "source": [
    "x.corr()"
   ]
  },
  {
   "cell_type": "code",
   "execution_count": null,
   "id": "acfad53d",
   "metadata": {},
   "outputs": [],
   "source": [
    "x"
   ]
  },
  {
   "cell_type": "code",
   "execution_count": null,
   "id": "7adf811f",
   "metadata": {},
   "outputs": [],
   "source": [
    "x.plot(kind=\"scatter\", x=\"Position\", y=\"Height\")"
   ]
  },
  {
   "cell_type": "code",
   "execution_count": null,
   "id": "36e6f214",
   "metadata": {},
   "outputs": [],
   "source": [
    "df6"
   ]
  },
  {
   "cell_type": "code",
   "execution_count": null,
   "id": "9f41580e",
   "metadata": {},
   "outputs": [],
   "source": [
    "               df.dropna(subset=[\"Nationality\", \"Height\"])\n",
    "               "
   ]
  },
  {
   "cell_type": "code",
   "execution_count": null,
   "id": "adfb027b",
   "metadata": {},
   "outputs": [],
   "source": [
    "import pandas as pd\n",
    "df7=pd.read_excel(\"dataCleaning.xlsx\")"
   ]
  },
  {
   "cell_type": "code",
   "execution_count": null,
   "id": "3dbaaa34",
   "metadata": {},
   "outputs": [],
   "source": [
    "df7.head()"
   ]
  },
  {
   "cell_type": "code",
   "execution_count": null,
   "id": "43859500",
   "metadata": {},
   "outputs": [],
   "source": [
    "df7.dropna(subset = \"Nationality\", inplace = True)"
   ]
  },
  {
   "cell_type": "code",
   "execution_count": null,
   "id": "d0366cb1",
   "metadata": {},
   "outputs": [],
   "source": [
    "df7"
   ]
  },
  {
   "cell_type": "code",
   "execution_count": null,
   "id": "a510375a",
   "metadata": {},
   "outputs": [],
   "source": [
    "for x in df7.index:\n",
    "    if df7.loc[x, \"Position\"]>50:\n",
    "        df7.loc[x, \"Position\"]= 4"
   ]
  },
  {
   "cell_type": "code",
   "execution_count": null,
   "id": "b0bc007c",
   "metadata": {},
   "outputs": [],
   "source": [
    "df7"
   ]
  },
  {
   "cell_type": "code",
   "execution_count": null,
   "id": "c5dc481f",
   "metadata": {},
   "outputs": [],
   "source": [
    "for x in df7.index:\n",
    "    if df7.loc[x, \"Position\"]<3:\n",
    "        df7.drop(x, inplace=True)"
   ]
  },
  {
   "cell_type": "code",
   "execution_count": null,
   "id": "ddcd8bed",
   "metadata": {},
   "outputs": [],
   "source": [
    "df7"
   ]
  },
  {
   "cell_type": "code",
   "execution_count": null,
   "id": "a06f66dd",
   "metadata": {},
   "outputs": [],
   "source": [
    "df6[[\"Height\", \"Position\"]].corr()"
   ]
  },
  {
   "cell_type": "code",
   "execution_count": null,
   "id": "fd48d553",
   "metadata": {},
   "outputs": [],
   "source": [
    "df6.plot(kind=\"scatter\", x = \"Height\", y=\"Position\")"
   ]
  },
  {
   "cell_type": "code",
   "execution_count": null,
   "id": "69091310",
   "metadata": {},
   "outputs": [],
   "source": [
    "df6"
   ]
  },
  {
   "cell_type": "code",
   "execution_count": null,
   "id": "ea8436ff",
   "metadata": {},
   "outputs": [],
   "source": [
    "\n",
    "import matplotlib.pyplot as plt\n",
    "import numpy as np\n"
   ]
  },
  {
   "cell_type": "code",
   "execution_count": null,
   "id": "2fd5d8bb",
   "metadata": {},
   "outputs": [],
   "source": [
    "\n",
    "x= np.array([1,3])\n",
    "y= np.array([8,10])"
   ]
  },
  {
   "cell_type": "code",
   "execution_count": null,
   "id": "db662afe",
   "metadata": {},
   "outputs": [],
   "source": [
    "plt.plot(x,y)\n"
   ]
  },
  {
   "cell_type": "code",
   "execution_count": null,
   "id": "c1f25c2a",
   "metadata": {},
   "outputs": [],
   "source": [
    "plt.show()"
   ]
  },
  {
   "cell_type": "code",
   "execution_count": null,
   "id": "4b34f43d",
   "metadata": {},
   "outputs": [],
   "source": [
    "df6"
   ]
  },
  {
   "cell_type": "code",
   "execution_count": null,
   "id": "63d9a4af",
   "metadata": {},
   "outputs": [],
   "source": [
    "y =df6[[\"Height\", \"Position\"]]"
   ]
  },
  {
   "cell_type": "code",
   "execution_count": null,
   "id": "b5584645",
   "metadata": {},
   "outputs": [],
   "source": [
    "y"
   ]
  },
  {
   "cell_type": "code",
   "execution_count": null,
   "id": "90c13331",
   "metadata": {},
   "outputs": [],
   "source": [
    "y.describe()"
   ]
  },
  {
   "cell_type": "code",
   "execution_count": null,
   "id": "82545c41",
   "metadata": {},
   "outputs": [],
   "source": [
    "d =[\"Height\", \"Position\"]"
   ]
  },
  {
   "cell_type": "code",
   "execution_count": null,
   "id": "147e6c8a",
   "metadata": {},
   "outputs": [],
   "source": [
    "df6[d]"
   ]
  },
  {
   "cell_type": "code",
   "execution_count": null,
   "id": "fe449707",
   "metadata": {},
   "outputs": [],
   "source": [
    "import pandas as pd\n",
    "import numpy as np\n",
    "import matplotlib.pyplot as plt"
   ]
  },
  {
   "cell_type": "code",
   "execution_count": null,
   "id": "27108530",
   "metadata": {},
   "outputs": [],
   "source": [
    "plt.plot(np.array([1,2,3,4,5]), np.array([5,4,3,2,1]))"
   ]
  },
  {
   "cell_type": "code",
   "execution_count": null,
   "id": "1bb0e768",
   "metadata": {},
   "outputs": [],
   "source": [
    "plt.plot(df6[\"Height\"], df6[\"Position\"])"
   ]
  },
  {
   "cell_type": "code",
   "execution_count": null,
   "id": "1a79caca",
   "metadata": {},
   "outputs": [],
   "source": [
    "\n",
    "df6"
   ]
  },
  {
   "cell_type": "code",
   "execution_count": null,
   "id": "677ec5c7",
   "metadata": {},
   "outputs": [],
   "source": []
  },
  {
   "cell_type": "code",
   "execution_count": null,
   "id": "ce113a18",
   "metadata": {},
   "outputs": [],
   "source": [
    "import pandas as pd\n",
    "import numpy as np\n",
    "import matplotlib.pyplot as plt\n",
    "df=pd.read_excel(\"dataCleaning.xlsx\", sheet_name=\"Sheet2\")"
   ]
  },
  {
   "cell_type": "code",
   "execution_count": null,
   "id": "b54cfdf5",
   "metadata": {},
   "outputs": [],
   "source": [
    "df.head()"
   ]
  },
  {
   "cell_type": "code",
   "execution_count": null,
   "id": "c61474d5",
   "metadata": {},
   "outputs": [],
   "source": [
    "plt.plot(df[\"OOP\"], df[\"THE\"])"
   ]
  },
  {
   "cell_type": "code",
   "execution_count": null,
   "id": "82a5005c",
   "metadata": {},
   "outputs": [],
   "source": [
    "df"
   ]
  },
  {
   "cell_type": "code",
   "execution_count": null,
   "id": "692d1bda",
   "metadata": {},
   "outputs": [],
   "source": [
    "plt.plot(df[\"OOP\"], df[\"THE\"])"
   ]
  },
  {
   "cell_type": "code",
   "execution_count": null,
   "id": "c7c5f7b1",
   "metadata": {},
   "outputs": [],
   "source": [
    "plt.scatter(df[\"OOP\"], df[\"THE\"])"
   ]
  },
  {
   "cell_type": "code",
   "execution_count": null,
   "id": "6856eb9d",
   "metadata": {},
   "outputs": [],
   "source": [
    "plt.scatter(np.array([1,2,3,4,5]), np.array([5,4,3,2,1]))"
   ]
  },
  {
   "cell_type": "code",
   "execution_count": null,
   "id": "ef61ddb5",
   "metadata": {},
   "outputs": [],
   "source": [
    "plt.scatter(np.random.random(50), np.random.random(50), c=\"coral\", marker=\"d\", s=50)"
   ]
  },
  {
   "cell_type": "code",
   "execution_count": null,
   "id": "0cd4e0b0",
   "metadata": {},
   "outputs": [],
   "source": [
    "df[\"OOP\"].count()"
   ]
  },
  {
   "cell_type": "code",
   "execution_count": null,
   "id": "5dec8b7f",
   "metadata": {},
   "outputs": [],
   "source": [
    "# Lineplot\n",
    "plt.plot([1,2,3,4,5], [2,3,4,5,6], c=\"purple\", lw= 3, linestyle=\"--\")"
   ]
  },
  {
   "cell_type": "code",
   "execution_count": null,
   "id": "9f0a9fd1",
   "metadata": {},
   "outputs": [],
   "source": [
    "df6"
   ]
  },
  {
   "cell_type": "code",
   "execution_count": null,
   "id": "f21846f5",
   "metadata": {},
   "outputs": [],
   "source": [
    "plt.bar(df6[\"Nationality\"], df6[\"Height\"], color=\"turquoise\", align=\"edge\", width=0.5, edgecolor=\"Green\")"
   ]
  },
  {
   "cell_type": "code",
   "execution_count": null,
   "id": "2ad64481",
   "metadata": {},
   "outputs": [],
   "source": [
    "df.head()"
   ]
  },
  {
   "cell_type": "code",
   "execution_count": null,
   "id": "30c04497",
   "metadata": {},
   "outputs": [],
   "source": [
    "len(df)"
   ]
  },
  {
   "cell_type": "code",
   "execution_count": null,
   "id": "ae114227",
   "metadata": {},
   "outputs": [],
   "source": [
    "df.shape"
   ]
  },
  {
   "cell_type": "code",
   "execution_count": null,
   "id": "21db9e5b",
   "metadata": {},
   "outputs": [],
   "source": [
    "plt.hist([1,2,3,4,5,6,7,8,9,0,12,23,45,67,78,98,23,54,56,87,89,32,34,65,67,87,89,43,56])"
   ]
  },
  {
   "cell_type": "code",
   "execution_count": null,
   "id": "f6436208",
   "metadata": {
    "scrolled": true
   },
   "outputs": [],
   "source": [
    "df"
   ]
  },
  {
   "cell_type": "code",
   "execution_count": null,
   "id": "f25bba47",
   "metadata": {},
   "outputs": [],
   "source": [
    "OOPSHARE100=df[\"OOPSHARE\"]*100"
   ]
  },
  {
   "cell_type": "code",
   "execution_count": null,
   "id": "c4c48ff4",
   "metadata": {
    "scrolled": true
   },
   "outputs": [],
   "source": []
  },
  {
   "cell_type": "code",
   "execution_count": null,
   "id": "7a3f626e",
   "metadata": {},
   "outputs": [],
   "source": [
    "plt.hist(df[\"THE\"], bins=5, color=\"skyblue\")\n",
    "plt.xlabel(\"THE\")\n",
    "plt.ylabel(\"Frequncy\")\n",
    "plt.title(\"Histogram of THE\")"
   ]
  },
  {
   "cell_type": "code",
   "execution_count": null,
   "id": "d32f1810",
   "metadata": {},
   "outputs": [],
   "source": [
    "plt.plot(df[\"OOP\"], color=\"red\", lw=10, ls=\"dashed\")\n",
    "plt.plot(OOPSHARE100)\n",
    "plt.xlabel(\"Time\")\n",
    "plt.ylabel(\"OOP\")\n",
    "plt.title(\"Line graph of OOP\")"
   ]
  },
  {
   "cell_type": "code",
   "execution_count": null,
   "id": "5dbec5ce",
   "metadata": {},
   "outputs": [],
   "source": [
    "values=df[\"Country\"].value_counts()\n",
    "labels=values.index\n",
    "sizes=values.values\n",
    "plt.pie(sizes, labels=labels)"
   ]
  },
  {
   "cell_type": "code",
   "execution_count": null,
   "id": "64160a05",
   "metadata": {},
   "outputs": [],
   "source": [
    "plt.pie([23,27,20,30])"
   ]
  },
  {
   "cell_type": "code",
   "execution_count": null,
   "id": "9eeb5fad",
   "metadata": {},
   "outputs": [],
   "source": [
    "df.head(3)"
   ]
  },
  {
   "cell_type": "code",
   "execution_count": null,
   "id": "d8ca6ad6",
   "metadata": {},
   "outputs": [],
   "source": [
    "value=df[\"CATA\"].value_counts()\n",
    "sizes=value.values\n",
    "label=value.index\n",
    "plt.pie(sizes, labels=label,autopct='%1.1f%%')\n",
    "explode=\"True\"\n"
   ]
  },
  {
   "cell_type": "code",
   "execution_count": null,
   "id": "0347825f",
   "metadata": {},
   "outputs": [],
   "source": [
    "# value=df[\"CATA\"].value_counts()\n",
    "# sizes=value.values\n",
    "# label=value.index\n",
    "# plt.pie(sizes, labels=df[,autopct='%1.1f%%')"
   ]
  },
  {
   "cell_type": "code",
   "execution_count": null,
   "id": "afda7188",
   "metadata": {},
   "outputs": [],
   "source": [
    "df"
   ]
  },
  {
   "cell_type": "code",
   "execution_count": null,
   "id": "835279df",
   "metadata": {},
   "outputs": [],
   "source": []
  }
 ],
 "metadata": {
  "kernelspec": {
   "display_name": "Python 3 (ipykernel)",
   "language": "python",
   "name": "python3"
  },
  "language_info": {
   "codemirror_mode": {
    "name": "ipython",
    "version": 3
   },
   "file_extension": ".py",
   "mimetype": "text/x-python",
   "name": "python",
   "nbconvert_exporter": "python",
   "pygments_lexer": "ipython3",
   "version": "3.11.5"
  }
 },
 "nbformat": 4,
 "nbformat_minor": 5
}
